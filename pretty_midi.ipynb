{
 "cells": [
  {
   "cell_type": "markdown",
   "metadata": {},
   "source": [
    "# pretty_midi\n",
    "[公式](http://craffel.github.io/pretty-midi/)  \n",
    "MIDIを簡単に修正したり，情報を取得することができるライブラリ  \n",
    "  \n",
    "研究で使用するには，以下の引用が必要  \n",
    "Colin Raffel and Daniel P. W. Ellis. Intuitive Analysis, Creation and Manipulation of MIDI Data with pretty_midi. In 15th International Conference on Music Information Retrieval Late Breaking and Demo Papers, 2014."
   ]
  },
  {
   "cell_type": "markdown",
   "metadata": {},
   "source": [
    "FluidSynthによって書き出すことができる  \n",
    "インストール方法は`pyfluidsynth_install.md`に記載"
   ]
  },
  {
   "cell_type": "markdown",
   "metadata": {},
   "source": [
    "## 基本的な使い方"
   ]
  },
  {
   "cell_type": "code",
   "execution_count": 1,
   "metadata": {},
   "outputs": [],
   "source": [
    "import pretty_midi, wave, struct, numpy as np\n",
    "from scipy.io import wavfile as spw\n",
    "from IPython.display import Audio\n",
    "import matplotlib.pyplot as plt\n",
    "%matplotlib inline"
   ]
  },
  {
   "cell_type": "code",
   "execution_count": 2,
   "metadata": {},
   "outputs": [
    {
     "name": "stdout",
     "output_type": "stream",
     "text": [
      "Estimated tempo: 224.17791898332382\n"
     ]
    }
   ],
   "source": [
    "# MIDIデータの読み込み\n",
    "midi_data = pretty_midi.PrettyMIDI('./midi/a.mid')\n",
    "\n",
    "# テンポの経験的推定\n",
    "print(\"Estimated tempo:\", midi_data.estimate_tempo())"
   ]
  },
  {
   "cell_type": "code",
   "execution_count": 6,
   "metadata": {},
   "outputs": [
    {
     "name": "stdout",
     "output_type": "stream",
     "text": [
      "(12, 21800)\n",
      "C  : 0.1627839844479718\n",
      "C# : 0.0\n",
      "D  : 0.08120311717131701\n",
      "D# : 0.0\n",
      "E  : 0.158110031652076\n",
      "F  : 0.10397721997722975\n",
      "F# : 0.0\n",
      "G  : 0.12141781078591192\n",
      "G# : 0.0\n",
      "A  : 0.31742115829082546\n",
      "A# : 0.003716422056246051\n",
      "B  : 0.051370255618422025\n",
      "[]\n"
     ]
    }
   ],
   "source": [
    "# 12音階でどこがよく使われているかを調べ，スケールを推定\n",
    "\n",
    "# 12音階に分けたMIDIデータ\n",
    "chroma = midi_data.get_chroma()\n",
    "print(chroma.shape)\n",
    "\n",
    "# 12音階のそれぞれがどれだけ使われているかの相対量を取得\n",
    "total_velocity = sum(sum(chroma))\n",
    "rel_amount = [sum(semitone)/total_velocity for semitone in chroma]\n",
    "for k in range(12):\n",
    "    key_name = pretty_midi.note_number_to_name(k)[:-2]\n",
    "    print(\"{:<2}\".format(key_name), \":\", rel_amount[k])\n",
    "print(midi_data.key_signature_changes)"
   ]
  },
  {
   "cell_type": "markdown",
   "metadata": {},
   "source": [
    "Amかな？"
   ]
  },
  {
   "cell_type": "code",
   "execution_count": 4,
   "metadata": {},
   "outputs": [],
   "source": [
    "# ドラム以外のMIDIを+5トランスポーズ\n",
    "for instrument in midi_data.instruments:\n",
    "    if instrument.is_drum: continue\n",
    "    for note in instrument.notes:\n",
    "        note.pitch += 5"
   ]
  },
  {
   "cell_type": "markdown",
   "metadata": {},
   "source": [
    "### MIDIファイルの生成"
   ]
  },
  {
   "cell_type": "code",
   "execution_count": 9,
   "metadata": {},
   "outputs": [],
   "source": [
    "cello_c_chord = pretty_midi.PrettyMIDI()\n",
    "\n",
    "# 空のInstrument(トラック)を取得\n",
    "cello_program = pretty_midi.instrument_name_to_program(\"Cello\")\n",
    "cello = pretty_midi.Instrument(program=cello_program)\n",
    "\n",
    "# 0[s] ~ 0.5[s] のCコードを設定\n",
    "for note_name in ['C5', 'E5', 'G5']:\n",
    "    note_number = pretty_midi.Note(velocity=100, pitch=note_name, start=0, end=.5)\n",
    "    cello.notes.append(note)\n",
    "\n",
    "# トラックにcelloを設定\n",
    "cello_c_chord.instruments.append(cello)\n",
    "cello_c_chord.write('./midi/cello-C-chord.mid')"
   ]
  },
  {
   "cell_type": "markdown",
   "metadata": {},
   "source": [
    "### WAVEファイルとして書き出し\n",
    "([参考](https://qiita.com/kinaonao/items/c3f2ef224878fbd232f5))"
   ]
  },
  {
   "cell_type": "code",
   "execution_count": 5,
   "metadata": {},
   "outputs": [],
   "source": [
    "def pm_to_wave(pm, wave_file_name, wave_form=np.sin, fs=44100, fluid=True, sf_path=None):\n",
    "    \n",
    "    # サイン波によるMIDIデータのオーディオデータへの変換 [-1,1]\n",
    "    if fluid:\n",
    "        audio = midi_data.fluidsynth(fs, sf_path)\n",
    "    else:\n",
    "        audio = midi_data.synthesize(fs, wave_form)\n",
    "    \n",
    "    # 16bit=2byte符号付き整数に変換 [-32768  ~ 32767]\n",
    "    audio = [int(x * 32767.0) for x in audio]\n",
    "\n",
    "    # 2byteのデータとしてバイナリ化(https://techacademy.jp/magazine/19058)\n",
    "    binwave = struct.pack(\"h\" * len(audio), *audio)\n",
    "    \n",
    "    # waveファイルの準備\n",
    "    w = wave.Wave_write(wave_file_name)\n",
    "\n",
    "    # チャンネル数(1:Mono,2:Stereo)、サンプルサイズ(バイト)、サンプリング周期\n",
    "    # フレーム数，圧縮形式('NONE'のみ)、圧縮形式の名前('not compressed'のみ)\n",
    "    w.setparams((1, 2, fs, len(binwave), 'NONE', 'not compressed'))\n",
    "    \n",
    "    # 書き出しと終了\n",
    "    w.writeframes(binwave)\n",
    "    w.close()\n",
    "    \n",
    "    return audio"
   ]
  },
  {
   "cell_type": "markdown",
   "metadata": {},
   "source": [
    "scipyでも書き出せる．こっちの方が早い([参考](http://naga-tsuzuki.sblo.jp/article/176554546.html))"
   ]
  },
  {
   "cell_type": "code",
   "execution_count": 4,
   "metadata": {},
   "outputs": [],
   "source": [
    "def pm_to_wave(pm, wave_file_name, wave_form=np.sin, fs=44100, fluid=True, sf_path=None):\n",
    "    \n",
    "    # サイン波によるMIDIデータのオーディオデータへの変換 [-1,1]\n",
    "    if fluid:\n",
    "        audio = midi_data.fluidsynth(fs, sf_path)\n",
    "    else:\n",
    "        audio = midi_data.synthesize(fs, wave_form)\n",
    "    \n",
    "    # 16bit=2byte符号付き整数に変換してノーマライズ [-32768  ~ 32767]\n",
    "    audio = np.array(audio * 32767.0, dtype=\"int16\") # floatだと情報量が多くなる\n",
    "    audio_stereo = np.c_[audio, audio] # ステレオ化\n",
    "    spw.write(wave_file_name, fs, audio_stereo) # 書き出し\n",
    "    \n",
    "    return audio"
   ]
  },
  {
   "cell_type": "code",
   "execution_count": null,
   "metadata": {},
   "outputs": [],
   "source": [
    "wave_file_name = \"./data/sample.wav\"\n",
    "# sf_path = \"./data/GeneralUser_GS_v1.471.sf2\" # mac\n",
    "sf_path = \"../gsfont/gsfont.sf2\" # ubuntu\n",
    "audio = pm_to_wave(midi_data, wave_file_name, sf_path=sf_path)\n",
    "print(len(audio))\n",
    "plt.plot(audio)\n",
    "Audio(wave_file_name)"
   ]
  },
  {
   "cell_type": "markdown",
   "metadata": {},
   "source": [
    "その他の例は[ここ](https://github.com/craffel/pretty-midi/tree/master/examples)\n",
    "- audio-to-MIDI\n",
    "- チップチューンの作成\n",
    "- コードカタログ\n",
    "- オーディオのピアノロール化(librosa)"
   ]
  },
  {
   "cell_type": "markdown",
   "metadata": {},
   "source": [
    "# クラス"
   ]
  },
  {
   "cell_type": "code",
   "execution_count": 20,
   "metadata": {},
   "outputs": [],
   "source": [
    "def methods(obj):\n",
    "    return [attr for attr in dir(obj) if not attr.startswith('_')]"
   ]
  },
  {
   "cell_type": "markdown",
   "metadata": {},
   "source": [
    "### PrettyMIDI\n",
    "Parameters\n",
    "- midi_file=None\n",
    "- resolution=220\n",
    "- initial_tempo=120.0\n",
    "\n",
    "Attributes\n",
    "- instruments: `Instrument`のリスト\n",
    "- key_signature_changes: `KeySignature`のリスト\n",
    "- time_signature_changes: `TimeSignature`のリスト\n",
    "- lyrics: `Lyrics`のリスト"
   ]
  },
  {
   "cell_type": "code",
   "execution_count": 19,
   "metadata": {},
   "outputs": [
    {
     "data": {
      "text/plain": [
       "['adjust_times',\n",
       " 'estimate_beat_start',\n",
       " 'estimate_tempi',\n",
       " 'estimate_tempo',\n",
       " 'fluidsynth',\n",
       " 'get_beats',\n",
       " 'get_chroma',\n",
       " 'get_downbeats',\n",
       " 'get_end_time',\n",
       " 'get_onsets',\n",
       " 'get_piano_roll',\n",
       " 'get_pitch_class_histogram',\n",
       " 'get_pitch_class_transition_matrix',\n",
       " 'get_tempo_changes',\n",
       " 'instruments',\n",
       " 'key_signature_changes',\n",
       " 'lyrics',\n",
       " 'remove_invalid_notes',\n",
       " 'resolution',\n",
       " 'synthesize',\n",
       " 'tick_to_time',\n",
       " 'time_signature_changes',\n",
       " 'time_to_tick',\n",
       " 'write']"
      ]
     },
     "execution_count": 19,
     "metadata": {},
     "output_type": "execute_result"
    }
   ],
   "source": [
    "methods(pretty_midi.PrettyMIDI())"
   ]
  },
  {
   "cell_type": "markdown",
   "metadata": {},
   "source": [
    "やれることをまとめる．詳しい使い方は公式を参照\n",
    "- adjust_times: ある時間のMIDIイベントを別の時間のMIDIイベントに移動\n",
    "- fluidsynth: fluidsynthによる`.sf2`サウンドフォントを使用した音声合成\n",
    "- chroma: 全楽器の音符を12音階にまとめたもの\n",
    "- onsets: 全ての音符の開始時間\n",
    "- piano_roll: (128, time_steps), fsによってサンプリング周波数を指定\n",
    "- pitch_class_histogram: ピッチクラスのヒストグラムを作成\n",
    "- pitch_class_transition_matrix: 一定時間を超える長さの音符の音程変化?\n",
    "- remove_invalid_notes: 開始時間より終了時間が前にある音符を削除\n",
    "- tick: 2×resolution = 1 tick?\n",
    "- write: MIDIファイルを書き出し"
   ]
  },
  {
   "cell_type": "markdown",
   "metadata": {},
   "source": [
    "### Instrument\n",
    "Paramters\n",
    "- program: MIDIの楽器プログラム番号\n",
    "- is_drum: ドラム(channel 9)であるか？\n",
    "- name: 楽器名\n",
    "\n",
    "Attributes\n",
    "- program\n",
    "- is_drum\n",
    "- name\n",
    "- notes: `Note`オブジェクトのリスト\n",
    "- pitch_bends: `PitchBend`オブジェクトのリスト\n",
    "- control_changes: `ControlChange`オブジェクトのリスト"
   ]
  },
  {
   "cell_type": "code",
   "execution_count": 23,
   "metadata": {},
   "outputs": [
    {
     "data": {
      "text/plain": [
       "['control_changes',\n",
       " 'fluidsynth',\n",
       " 'get_chroma',\n",
       " 'get_end_time',\n",
       " 'get_onsets',\n",
       " 'get_piano_roll',\n",
       " 'get_pitch_class_histogram',\n",
       " 'get_pitch_class_transition_matrix',\n",
       " 'is_drum',\n",
       " 'name',\n",
       " 'notes',\n",
       " 'pitch_bends',\n",
       " 'program',\n",
       " 'remove_invalid_notes',\n",
       " 'synthesize']"
      ]
     },
     "execution_count": 23,
     "metadata": {},
     "output_type": "execute_result"
    }
   ],
   "source": [
    "methods(pretty_midi.Instrument(0, False, 'piano'))"
   ]
  },
  {
   "cell_type": "markdown",
   "metadata": {},
   "source": [
    "### Note\n",
    "Paramters\n",
    "- velocity: 演奏の強さ\n",
    "- pitch: 音程番号\n",
    "- start: 開始時間(秒)\n",
    "- end: 終了時間(秒)"
   ]
  },
  {
   "cell_type": "markdown",
   "metadata": {},
   "source": [
    "### PitchBend\n",
    "Parameters\n",
    "- pitch: ピッチベンド値[-8192~8191]\n",
    "- time: 発生時間(秒)"
   ]
  },
  {
   "cell_type": "markdown",
   "metadata": {},
   "source": [
    "### ControlChange\n",
    "Parameters\n",
    "- number: CC番号[0,127]\n",
    "- value: CC値[0,127]\n",
    "- time: 発生時間(秒)"
   ]
  },
  {
   "cell_type": "markdown",
   "metadata": {},
   "source": [
    "### TimeSignature\n",
    "Parameters\n",
    "- numerator: 分子\n",
    "- denominator: 分母\n",
    "- time: 発生時間(秒)"
   ]
  },
  {
   "cell_type": "markdown",
   "metadata": {},
   "source": [
    "### KeySignature\n",
    "Parameters\n",
    "- key_number: [0~11]がMajor, [12,23]がMinor\n",
    "- time: 発生時間(秒)"
   ]
  },
  {
   "cell_type": "markdown",
   "metadata": {},
   "source": [
    "### Lyric\n",
    "Parameters\n",
    "- text: 歌詞テキスト\n",
    "- time: 発生時間(秒)"
   ]
  },
  {
   "cell_type": "markdown",
   "metadata": {},
   "source": [
    "# 関数"
   ]
  },
  {
   "cell_type": "code",
   "execution_count": 33,
   "metadata": {},
   "outputs": [],
   "source": [
    "def functions(obj):\n",
    "    return [attr for attr in dir(obj) if not (attr.startswith('_') or attr[0].isupper())]"
   ]
  },
  {
   "cell_type": "code",
   "execution_count": 34,
   "metadata": {},
   "outputs": [
    {
     "data": {
      "text/plain": [
       "['collections',\n",
       " 'constants',\n",
       " 'containers',\n",
       " 'copy',\n",
       " 'drum_name_to_note_number',\n",
       " 'functools',\n",
       " 'hz_to_note_number',\n",
       " 'instrument',\n",
       " 'instrument_name_to_program',\n",
       " 'key_name_to_key_number',\n",
       " 'key_number_to_key_name',\n",
       " 'key_number_to_mode_accidentals',\n",
       " 'math',\n",
       " 'mido',\n",
       " 'mode_accidentals_to_key_number',\n",
       " 'note_name_to_number',\n",
       " 'note_number_to_drum_name',\n",
       " 'note_number_to_hz',\n",
       " 'note_number_to_name',\n",
       " 'np',\n",
       " 'os',\n",
       " 'pitch_bend_to_semitones',\n",
       " 'pkg_resources',\n",
       " 'pretty_midi',\n",
       " 'program_to_instrument_class',\n",
       " 'program_to_instrument_name',\n",
       " 'qpm_to_bpm',\n",
       " 're',\n",
       " 'semitones_to_pitch_bend',\n",
       " 'six',\n",
       " 'utilities',\n",
       " 'warnings']"
      ]
     },
     "execution_count": 34,
     "metadata": {},
     "output_type": "execute_result"
    }
   ],
   "source": [
    "functions(pretty_midi)"
   ]
  },
  {
   "cell_type": "markdown",
   "metadata": {},
   "source": [
    "できることをまとめていく\n",
    "- key_number, key_name: 音程の番号と名前の相互変換\n",
    "- mode_actidential, key_number: ex. シャープ3つならAが主音，AはCから数えて9だから9が返る\n",
    "- qpm, bpm: 1分間にいくつ4分音符が出てくるかvs拍が出てくるか\n",
    "- note_number, hz: 音程番号とヘルツ[Hz]の相互変換 69(A)⇔440 ピッタリじゃなくてもいける\n",
    "- note_name, number: A4 ⇔ 69\n",
    "- note_number, drum_name: ドラムパートの楽器の名前 [参照](https://www.midi.org/specifications/item/gm-level-1-sound-set)\n",
    "- program, instrument_name: プログラム番号と楽器名 [参照](https://www.midi.org/specifications/item/gm-level-1-sound-set)\n",
    "- program, instrument_class: プログラム名と楽器種別 [参照](https://www.midi.org/specifications/item/gm-level-1-sound-set)\n",
    "- pitchbend, semitone: ピッチベンドの値が何半音に当たるか．semitone_rangeを変更可能"
   ]
  }
 ],
 "metadata": {
  "kernelspec": {
   "display_name": "Python 3",
   "language": "python",
   "name": "python3"
  },
  "language_info": {
   "codemirror_mode": {
    "name": "ipython",
    "version": 3
   },
   "file_extension": ".py",
   "mimetype": "text/x-python",
   "name": "python",
   "nbconvert_exporter": "python",
   "pygments_lexer": "ipython3",
   "version": "3.7.3"
  }
 },
 "nbformat": 4,
 "nbformat_minor": 4
}
