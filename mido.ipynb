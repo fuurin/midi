{
 "cells": [
  {
   "cell_type": "markdown",
   "metadata": {},
   "source": [
    "# Mido\n",
    "[公式](https://mido.readthedocs.io/en/latest/)  \n",
    "MIDIデバイスとの通信やMIDIデバイスの操作(SysExメッセージ)まで行えるライブラリ  \n",
    "そこまでやらなくていいのであまり触れない  \n",
    "\n",
    "MIDIポートを使うには`pip install python-rtmidi`も必要"
   ]
  },
  {
   "cell_type": "markdown",
   "metadata": {},
   "source": [
    "# Getting Started"
   ]
  },
  {
   "cell_type": "code",
   "execution_count": 1,
   "metadata": {},
   "outputs": [
    {
     "name": "stdout",
     "output_type": "stream",
     "text": [
      "note_on 60 [144, 60, 64]\n",
      "note_on channel=2 note=60 velocity=64 time=0\n"
     ]
    }
   ],
   "source": [
    "import mido\n",
    "\n",
    "msg = mido.Message('note_on', note=60)\n",
    "print(msg.type, msg.note, msg.bytes())\n",
    "print(msg.copy(channel=2))"
   ]
  },
  {
   "cell_type": "code",
   "execution_count": null,
   "metadata": {},
   "outputs": [],
   "source": [
    "port = mido.open_output('Port Name') # MIDI デバイスの名前\n",
    "port.send(msg) # MIDIイベントの送信"
   ]
  },
  {
   "cell_type": "code",
   "execution_count": null,
   "metadata": {},
   "outputs": [],
   "source": [
    "# MIDIデバイスからメッセージがあったときにそれを表示する？\n",
    "with mido.open_input() as inport:\n",
    "    for msg in inport:\n",
    "        print(msg)"
   ]
  },
  {
   "cell_type": "code",
   "execution_count": null,
   "metadata": {},
   "outputs": [],
   "source": [
    "# MIDIファイルの演奏データをMIDIデバイスに送信\n",
    "mid = mido.MidiFile('./midi/a.mid')\n",
    "for msg in mid.play():\n",
    "    port.send(msg)"
   ]
  },
  {
   "cell_type": "markdown",
   "metadata": {},
   "source": [
    "## MIDIファイルの取り扱い\n",
    "[参考](https://sabi-gara.com/mido-chord-analizer/)"
   ]
  },
  {
   "cell_type": "markdown",
   "metadata": {},
   "source": [
    "MIDIファイルの読み込み"
   ]
  },
  {
   "cell_type": "code",
   "execution_count": 8,
   "metadata": {},
   "outputs": [
    {
     "name": "stdout",
     "output_type": "stream",
     "text": [
      "<midi track '' 3 messages>\n",
      "<midi track 'main synth          ' 1284 messages>\n",
      "<midi track 'echo synth          ' 260 messages>\n",
      "<midi track 'main strings h      ' 222 messages>\n",
      "<midi track 'main strings m      ' 222 messages>\n",
      "<midi track 'main strings l      ' 222 messages>\n",
      "<midi track 'main bass           ' 924 messages>\n",
      "<midi track 'drums + fills       ' 5076 messages>\n",
      "<midi track 'xtras               ' 484 messages>\n",
      "<midi track 'harpsichord         ' 508 messages>\n",
      "<midi track 'verse vibe h        ' 324 messages>\n",
      "<midi track 'verse vibe m        ' 324 messages>\n",
      "<midi track 'verse vibe l        ' 324 messages>\n",
      "<midi track 'verse piano         ' 164 messages>\n",
      "<midi track 'verse xtra          ' 1156 messages>\n",
      "<midi track 'end string h        ' 8 messages>\n",
      "<midi track 'voice               ' 386 messages>\n",
      "<midi track 'orchestra hit       ' 148 messages>\n"
     ]
    }
   ],
   "source": [
    "file = mido.MidiFile(\"./midi/a.mid\")\n",
    "for track in file.tracks:\n",
    "    print(track)"
   ]
  },
  {
   "cell_type": "markdown",
   "metadata": {},
   "source": [
    "トラックの削除"
   ]
  },
  {
   "cell_type": "code",
   "execution_count": 9,
   "metadata": {},
   "outputs": [
    {
     "name": "stdout",
     "output_type": "stream",
     "text": [
      "Delete track: <midi track 'main strings h      ' 222 messages> \n",
      "\n",
      "<midi track '' 3 messages>\n",
      "<midi track 'main synth          ' 1284 messages>\n",
      "<midi track 'echo synth          ' 260 messages>\n",
      "<midi track 'main strings m      ' 222 messages>\n",
      "<midi track 'main strings l      ' 222 messages>\n",
      "<midi track 'main bass           ' 924 messages>\n",
      "<midi track 'drums + fills       ' 5076 messages>\n",
      "<midi track 'xtras               ' 484 messages>\n",
      "<midi track 'harpsichord         ' 508 messages>\n",
      "<midi track 'verse vibe h        ' 324 messages>\n",
      "<midi track 'verse vibe m        ' 324 messages>\n",
      "<midi track 'verse vibe l        ' 324 messages>\n",
      "<midi track 'verse piano         ' 164 messages>\n",
      "<midi track 'verse xtra          ' 1156 messages>\n",
      "<midi track 'end string h        ' 8 messages>\n",
      "<midi track 'voice               ' 386 messages>\n",
      "<midi track 'orchestra hit       ' 148 messages>\n"
     ]
    }
   ],
   "source": [
    "print(\"Delete track:\", file.tracks[3], \"\\n\")\n",
    "del file.tracks[3]\n",
    "for track in file.tracks:\n",
    "    print(track)"
   ]
  },
  {
   "cell_type": "markdown",
   "metadata": {},
   "source": [
    "トラック，メッセージの追加"
   ]
  },
  {
   "cell_type": "code",
   "execution_count": 22,
   "metadata": {},
   "outputs": [
    {
     "name": "stdout",
     "output_type": "stream",
     "text": [
      "<midi track 'New Track' 4 messages>\n",
      "<meta message track_name name='New Track' time=0>\n",
      "program_change channel=0 program=12 time=0\n",
      "note_on channel=0 note=64 velocity=64 time=32\n",
      "note_off channel=0 note=64 velocity=127 time=1000\n"
     ]
    }
   ],
   "source": [
    "new_file = mido.MidiFile()\n",
    "new_track = mido.MidiTrack()\n",
    "new_track.name = 'New Track'\n",
    "new_track.append(mido.Message('program_change', program=12, time=0))\n",
    "new_track.append(mido.Message('note_on', note=64, velocity=64, time=32))\n",
    "new_track.append(mido.Message('note_off', note=64, velocity=127, time=1000))\n",
    "\n",
    "new_file.tracks.append(new_track)\n",
    "\n",
    "for track in new_file.tracks:\n",
    "    print(track)\n",
    "\n",
    "for message in new_track:\n",
    "    print(message)"
   ]
  },
  {
   "cell_type": "markdown",
   "metadata": {},
   "source": [
    "ファイルの保存"
   ]
  },
  {
   "cell_type": "code",
   "execution_count": 23,
   "metadata": {},
   "outputs": [],
   "source": [
    "new_file.save('./data/new_midi.mid')"
   ]
  },
  {
   "cell_type": "markdown",
   "metadata": {},
   "source": [
    "他にも，MIDIデバイスとの通信やTCP/IP上でのMIDIイベントの送受信，メタメッセージの送信などができる．  \n",
    "PCとのインタラクティブな楽器演奏が行いたくなったら戻ってこよう"
   ]
  }
 ],
 "metadata": {
  "kernelspec": {
   "display_name": "Python 3",
   "language": "python",
   "name": "python3"
  },
  "language_info": {
   "codemirror_mode": {
    "name": "ipython",
    "version": 3
   },
   "file_extension": ".py",
   "mimetype": "text/x-python",
   "name": "python",
   "nbconvert_exporter": "python",
   "pygments_lexer": "ipython3",
   "version": "3.7.3"
  }
 },
 "nbformat": 4,
 "nbformat_minor": 4
}
