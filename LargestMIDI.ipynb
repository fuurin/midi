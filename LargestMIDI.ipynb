{
 "cells": [
  {
   "cell_type": "markdown",
   "metadata": {},
   "source": [
    "# The Largest MIDI Collection on the Internet\n",
    "https://www.reddit.com/r/WeAreTheMusicMakers/comments/3ajwe4/the_largest_midi_collection_on_the_internet/  \n",
    "  \n",
    "130,000 Midi File Collection 3.65Gb Uncompressed / 1.02 Gb Compressed ZIP  \n",
    "\n",
    "ジャンルは以下がある\n",
    "- Pop\n",
    "- Classical (Piano/Violin/Guitar)\n",
    "- EDM\n",
    "- VideoGame\n",
    "- Movie/TV Theme\n",
    "\n",
    "とりあえずPopに絞りたいが，どこに何があるのかよくわからない"
   ]
  },
  {
   "cell_type": "code",
   "execution_count": 1,
   "metadata": {},
   "outputs": [],
   "source": [
    "import os, random, pickle, glob, numpy as np\n",
    "from pathlib import Path\n",
    "import pretty_midi\n",
    "from pypianoroll import Multitrack, Track\n",
    "from utils import grid_plot, Timer, pm_to_wave\n",
    "from scipy.io import wavfile as spw\n",
    "from pydub import AudioSegment as AS\n",
    "from IPython.display import Audio\n",
    "import matplotlib.pyplot as plt\n",
    "%matplotlib inline"
   ]
  },
  {
   "cell_type": "code",
   "execution_count": 2,
   "metadata": {},
   "outputs": [
    {
     "data": {
      "text/plain": [
       "20"
      ]
     },
     "execution_count": 2,
     "metadata": {},
     "output_type": "execute_result"
    }
   ],
   "source": [
    "import multiprocessing\n",
    "from multiprocessing import Pool\n",
    "\n",
    "multiprocessing.cpu_count()"
   ]
  },
  {
   "cell_type": "code",
   "execution_count": 3,
   "metadata": {},
   "outputs": [],
   "source": [
    "base_dir = \"../datasets/largest_midi\"\n",
    "original_dir = os.path.join(base_dir, 'original')"
   ]
  },
  {
   "cell_type": "markdown",
   "metadata": {},
   "source": [
    "アルファベットか数字のディレクトリ以外は少なくともPopではなさそうなので除外"
   ]
  },
  {
   "cell_type": "code",
   "execution_count": 4,
   "metadata": {},
   "outputs": [
    {
     "data": {
      "text/plain": [
       "104553"
      ]
     },
     "execution_count": 4,
     "metadata": {},
     "output_type": "execute_result"
    }
   ],
   "source": [
    "all_midi_path = list(Path(original_dir).glob(\"[0-9A-Z]/**/*.[Mm][Ii][Dd]*\"))\n",
    "len(all_midi_path)"
   ]
  },
  {
   "cell_type": "markdown",
   "metadata": {},
   "source": [
    "さすがにこれだけでも相当ある"
   ]
  },
  {
   "cell_type": "markdown",
   "metadata": {},
   "source": [
    "### サンプルを確認"
   ]
  },
  {
   "cell_type": "code",
   "execution_count": 16,
   "metadata": {},
   "outputs": [
    {
     "name": "stdout",
     "output_type": "stream",
     "text": [
      "../datasets/largest_midi/E/E/EarthFinalConflict.mid\n"
     ]
    }
   ],
   "source": [
    "sample_path = str(all_midi_path[-10])\n",
    "print(sample_path)"
   ]
  },
  {
   "cell_type": "code",
   "execution_count": 17,
   "metadata": {},
   "outputs": [],
   "source": [
    "ptm = pretty_midi.PrettyMIDI(sample_path)\n",
    "\n",
    "ppr = Multitrack() # 拡張子がMidとかだと読み込めないのでpretty_midiをパースする\n",
    "ppr.parse_pretty_midi(ptm)"
   ]
  },
  {
   "cell_type": "code",
   "execution_count": null,
   "metadata": {},
   "outputs": [],
   "source": [
    "sample_wave_name = \"./data/sample.wav\"\n",
    "audio = pm_to_wave(ptm, sample_wave_name)\n",
    "Audio(sample_wave_name)"
   ]
  },
  {
   "cell_type": "markdown",
   "metadata": {},
   "source": [
    "こんな感じの長いやつがいっぱいあるみたい  \n",
    "しかしやはりどれがメロディなのかを発見するのは難しそう  \n",
    "コードを取得するのも難しそう  \n",
    "  \n",
    "打楽器を分けてやるのはis_drumがあるから簡単  \n",
    "と思ったが，program=119, is_drum=Falseみたいなのもあるので，プログラムナンバーで分けた方がよさそう"
   ]
  },
  {
   "cell_type": "markdown",
   "metadata": {},
   "source": [
    "## melodyという名前のトラックがある曲を選ぶ"
   ]
  },
  {
   "cell_type": "code",
   "execution_count": 87,
   "metadata": {},
   "outputs": [
    {
     "name": "stdout",
     "output_type": "stream",
     "text": [
      "True\n",
      "E/E/Everlasting-Love.mid\n"
     ]
    }
   ],
   "source": [
    "def has_instrument_named(instrument_name, ptm, perfect_match=False):\n",
    "    for instrument in ptm.instruments:\n",
    "        name = instrument.name\n",
    "        name = name.lower()\n",
    "        \n",
    "        if perfect_match:\n",
    "            if instrument_name == name:\n",
    "                return True\n",
    "        else:\n",
    "            if instrument_name in name:\n",
    "                return True\n",
    "        \n",
    "    return False\n",
    "\n",
    "def extract_midi_with_melody_path(midi_path):\n",
    "    try:\n",
    "        ptm = pretty_midi.PrettyMIDI(str(midi_path))\n",
    "    except:\n",
    "        return None\n",
    "\n",
    "    if has_instrument_named('melody', ptm):\n",
    "        return str(midi_path).split(original_dir)[-1][1:]\n",
    "    \n",
    "    return None\n",
    "\n",
    "# Test\n",
    "test_path = os.path.join(original_dir, \"E/E/Everlasting-Love.mid\")\n",
    "ptm = pretty_midi.PrettyMIDI(test_path)\n",
    "print(has_instrument_named('melody', ptm))\n",
    "print(extract_midi_with_melody_path(test_path))"
   ]
  },
  {
   "cell_type": "code",
   "execution_count": 70,
   "metadata": {},
   "outputs": [],
   "source": [
    "midi_with_melody_list_path = os.path.join('./data', 'largest_midi', 'midi_with_melody_list.pkl')\n",
    "multi_cpu_num = 10"
   ]
  },
  {
   "cell_type": "code",
   "execution_count": 62,
   "metadata": {},
   "outputs": [
    {
     "name": "stderr",
     "output_type": "stream",
     "text": [
      "/root/midi/.venv/lib/python3.7/site-packages/pretty_midi/pretty_midi.py:100: RuntimeWarning: Tempo, Key or Time signature change events found on non-zero tracks.  This is not a valid type 0 or type 1 MIDI file.  Tempo, Key or Time Signature may be wrong.\n",
      "  RuntimeWarning)\n"
     ]
    },
    {
     "name": "stdout",
     "output_type": "stream",
     "text": [
      "10712\n"
     ]
    }
   ],
   "source": [
    "p = Pool(multi_cpu_num)\n",
    "midi_with_melody_list = p.map(extract_midi_with_melody_path, all_midi_path)\n",
    "midi_with_melody_list = [path for path in midi_with_melody_list if path is not None]\n",
    "\n",
    "print(len(midi_with_melody_list))\n",
    "with open(midi_with_melody_list_path, 'wb') as f:\n",
    "    pickle.dump(midi_with_melody_list, f)"
   ]
  },
  {
   "cell_type": "markdown",
   "metadata": {},
   "source": [
    "ふーんそこそこあんじゃん  \n",
    "でも全体で10万もあるんだからもうちょっとほしいなぁ…"
   ]
  },
  {
   "cell_type": "code",
   "execution_count": 72,
   "metadata": {},
   "outputs": [],
   "source": [
    "with open(midi_with_melody_list_path, 'rb') as f:\n",
    "    midi_with_melody_list = pickle.load(f)"
   ]
  },
  {
   "cell_type": "code",
   "execution_count": 84,
   "metadata": {},
   "outputs": [
    {
     "data": {
      "text/plain": [
       "'../datasets/largest_midi/E/E/Everlasting-Love.mid'"
      ]
     },
     "execution_count": 84,
     "metadata": {},
     "output_type": "execute_result"
    }
   ],
   "source": [
    "str(midi_with_melody_list[-3])"
   ]
  },
  {
   "cell_type": "code",
   "execution_count": 83,
   "metadata": {},
   "outputs": [
    {
     "data": {
      "text/plain": [
       "[Instrument(program=39, is_drum=False, name=\"SYN BASS 2\"),\n",
       " Instrument(program=17, is_drum=False, name=\"ORGAN 2\"),\n",
       " Instrument(program=59, is_drum=False, name=\"MELODY\"),\n",
       " Instrument(program=90, is_drum=False, name=\"POLYSYNTH\"),\n",
       " Instrument(program=48, is_drum=False, name=\"STRINGS\"),\n",
       " Instrument(program=62, is_drum=False, name=\"SYNBRASS 1\"),\n",
       " Instrument(program=52, is_drum=False, name=\"CHOIR AAHS\"),\n",
       " Instrument(program=95, is_drum=False, name=\"SWEEP PAD\"),\n",
       " Instrument(program=0, is_drum=True, name=\"DRUMS\"),\n",
       " Instrument(program=1, is_drum=False, name=\"A.PIANO 2\"),\n",
       " Instrument(program=39, is_drum=False, name=\"+SYNBASS 4\"),\n",
       " Instrument(program=49, is_drum=False, name=\"SLOWSTRING\"),\n",
       " Instrument(program=119, is_drum=False, name=\"REVERSCYMB\")]"
      ]
     },
     "execution_count": 83,
     "metadata": {},
     "output_type": "execute_result"
    }
   ],
   "source": [
    "ptm = pretty_midi.PrettyMIDI(str(midi_with_melody_list[-3]))\n",
    "ptm.instruments"
   ]
  },
  {
   "cell_type": "code",
   "execution_count": null,
   "metadata": {},
   "outputs": [],
   "source": [
    "sample_wave_name = \"./data/sample.wav\"\n",
    "audio = pm_to_wave(ptm, sample_wave_name)\n",
    "Audio(sample_wave_name)"
   ]
  },
  {
   "cell_type": "markdown",
   "metadata": {},
   "source": [
    "## 単音楽器をメロディとする\n",
    "ベースや打楽器類，また独特な楽譜になる楽器を除く単音楽器をメロディとする  \n",
    "このとき，1小節の空白で区切ることにする．  \n",
    "その上で，8小節を下回る長さの小節は扱わない  \n",
    "一方，コード楽器は3和音以上をどこかで鳴らしている楽器に限定  \n",
    "なお，二値化を前提とする"
   ]
  },
  {
   "cell_type": "markdown",
   "metadata": {},
   "source": [
    "[GM1 Soundset](https://www.midi.org/specifications/item/gm-level-1-sound-set)の中で，メロディとしてもコードとしても扱わない楽器を明示  \n",
    "なお，program_number = PC - 1なので注意"
   ]
  },
  {
   "cell_type": "code",
   "execution_count": 5,
   "metadata": {},
   "outputs": [
    {
     "name": "stdout",
     "output_type": "stream",
     "text": [
      "8 Celesta\n",
      "9 Glockenspiel\n",
      "10 Music Box\n",
      "11 Vibraphone\n",
      "12 Marimba\n",
      "13 Xylophone\n",
      "14 Tubular Bells\n",
      "15 Dulcimer\n",
      "31 Guitar Harmonics\n",
      "32 Acoustic Bass\n",
      "33 Electric Bass (finger)\n",
      "34 Electric Bass (pick)\n",
      "35 Fretless Bass\n",
      "36 Slap Bass 1\n",
      "37 Slap Bass 2\n",
      "38 Synth Bass 1\n",
      "39 Synth Bass 2\n",
      "43 Contrabass\n",
      "46 Orchestral Harp\n",
      "47 Timpani\n",
      "55 Orchestra Hit\n",
      "58 Tuba\n",
      "61 Brass Section\n",
      "78 Whistle\n",
      "87 Lead 8 (bass + lead)\n",
      "96 FX 1 (rain)\n",
      "97 FX 2 (soundtrack)\n",
      "98 FX 3 (crystal)\n",
      "99 FX 4 (atmosphere)\n",
      "100 FX 5 (brightness)\n",
      "101 FX 6 (goblins)\n",
      "102 FX 7 (echoes)\n",
      "103 FX 8 (sci-fi)\n",
      "104 Sitar\n",
      "105 Banjo\n",
      "106 Shamisen\n",
      "107 Koto\n",
      "108 Kalimba\n",
      "109 Bagpipe\n",
      "110 Fiddle\n",
      "111 Shanai\n",
      "112 Tinkle Bell\n",
      "113 Agogo\n",
      "114 Steel Drums\n",
      "115 Woodblock\n",
      "116 Taiko Drum\n",
      "117 Melodic Tom\n",
      "118 Synth Drum\n",
      "119 Reverse Cymbal\n",
      "120 Guitar Fret Noise\n",
      "121 Breath Noise\n",
      "122 Seashore\n",
      "123 Bird Tweet\n",
      "124 Telephone Ring\n",
      "125 Helicopter\n",
      "126 Applause\n",
      "127 Gunshot\n"
     ]
    }
   ],
   "source": [
    "ignored_programs = set([\n",
    "    8, 9, 10, 11, 12, 13, 14, 15, # Cromatic Perc\n",
    "    31, # harmonics\n",
    "    32, 33, 34, 35, 36, 37, 38, 39, 43, # Bass\n",
    "    46, # Pizzicato\n",
    "    47, # Timpani\n",
    "    55, # Orchestra Hit\n",
    "    58, # Tuba\n",
    "    61, # Brass Section\n",
    "    78, # Whistle\n",
    "    87, # Bass + Lead\n",
    "    96, 97, 98, 99, 100, 101, 102, 103, # FX\n",
    "    104, 105, 106, 107, 108, 109, 110, 111, 112, 113, # Ethnic\n",
    "    114, 115, 116, 117, 118, # Pitched Drums\n",
    "    119, 120, 121, 122, 123, 124, 125, 126, 127 # SE\n",
    "])\n",
    "\n",
    "for i in ignored_programs:\n",
    "    print(i, pretty_midi.program_to_instrument_name(i))"
   ]
  },
  {
   "cell_type": "markdown",
   "metadata": {},
   "source": [
    "上記の条件で，複数のpprを取得する関数"
   ]
  },
  {
   "cell_type": "code",
   "execution_count": 6,
   "metadata": {},
   "outputs": [],
   "source": [
    "def is_4_by_4(ptm):\n",
    "    tsc = ptm.time_signature_changes\n",
    "    if len(tsc) < 1:\n",
    "        return False\n",
    "    \n",
    "    for ts in tsc:\n",
    "        if ts.numerator != 4 or ts.denominator != 4:\n",
    "            return False\n",
    "        \n",
    "    return True\n",
    "\n",
    "def remove_ignored_programs(ptm, ignored_programs, ignore_drum=True):\n",
    "    remained_instruments = []\n",
    "    for instrument in ptm.instruments:\n",
    "        if ignore_drum and instrument.is_drum:\n",
    "            continue\n",
    "        if instrument.program in ignored_programs:\n",
    "            continue\n",
    "        remained_instruments.append(instrument)\n",
    "    ptm.instruments = remained_instruments\n",
    "    return ptm\n",
    "\n",
    "class DownBeatResolution:\n",
    "    \"\"\"\n",
    "    全てのトラックのresolutionを下げるので注意\n",
    "    \"\"\"\n",
    "    def __init__(self, resolution_to, resolution_from=None, fill_mode=False):\n",
    "        self.res_to = resolution_to\n",
    "        self.res_from = resolution_from\n",
    "        self.fill_mode = fill_mode\n",
    "        \n",
    "        if self.res_from is not None and self.res_to >= self.res_from:\n",
    "            raise ValueError(f\"Resolution_to (given: {self.res_to}) must be smaller than resolution_from (given: {self.res_from}).\")\n",
    "\n",
    "    def down_resolution(self, nproll, step_width):\n",
    "        result = nproll[::step_width]\n",
    "        if not self.fill_mode:\n",
    "            note_existence = nproll.astype(bool)\n",
    "            for s in range(1, step_width):\n",
    "                result *= note_existence[s::step_width]\n",
    "        return result\n",
    "    \n",
    "    def __call__(self, ppr):\n",
    "        if self.res_from is None:\n",
    "            if self.res_to >= ppr.beat_resolution:\n",
    "                raise ValueError(f\"Target resolution ({self.res_to}) must be smaller than the original resolution ({ppr.beat_resolution})\")\n",
    "            step_width = ppr.beat_resolution // self.res_to\n",
    "        else:\n",
    "            step_width = self.res_from // self.res_to\n",
    "            \n",
    "        ppr.beat_resolution = self.res_to\n",
    "        ppr.downbeat = ppr.downbeat[::step_width]\n",
    "        \n",
    "        for ppr_track in ppr.tracks:\n",
    "            ppr_track.pianoroll = self.down_resolution(ppr_track.pianoroll, step_width)\n",
    "                    \n",
    "        return ppr\n",
    "down_beat_resolution = DownBeatResolution(12)\n",
    "\n",
    "def discriminate_mono_poly(ppr, mono_threshold=0.99, poly_threshold=0.9):\n",
    "    mono, poly = [], []\n",
    "    \n",
    "    for track_number, track in enumerate(ppr.tracks):\n",
    "        pianoroll = track.pianoroll\n",
    "        \n",
    "        simultaneous_pitches_nums = np.sum(pianoroll, axis=1)\n",
    "        on_note_steps = np.sum(simultaneous_pitches_nums > 0)\n",
    "        if on_note_steps <= 0: continue\n",
    "            \n",
    "        mono_rate = np.sum(simultaneous_pitches_nums == 1, dtype=float) / on_note_steps\n",
    "        poly_rate = np.sum(simultaneous_pitches_nums >= 3, dtype=float) / on_note_steps\n",
    "        \n",
    "        if mono_rate >= mono_threshold:\n",
    "            mono.append(track_number)\n",
    "        elif poly_rate >= poly_threshold:\n",
    "            poly.append(track_number)\n",
    "\n",
    "    return mono, poly\n",
    "\n",
    "def create_chord_track(ppr, targets, offset_octave=4):\n",
    "    # コードパートをすべて一つに統合したピアノロールを作成\n",
    "    chord_pianoroll = np.zeros_like(ppr.tracks[targets[0]].pianoroll, dtype=bool)\n",
    "    for target in targets:\n",
    "        chord_pianoroll += ppr.tracks[target].pianoroll\n",
    "    \n",
    "    # それを1オクターブに収める\n",
    "    chord_steps, chord_pitches = np.where(chord_pianoroll)\n",
    "    chord_pitches = chord_pitches % 12 + offset_octave * 12\n",
    "    chord_pianoroll = np.zeros_like(chord_pianoroll, dtype=bool)\n",
    "    chord_pianoroll[chord_steps, chord_pitches] = 1\n",
    "    \n",
    "    # 後ろに伸ばして空白ステップをなくす．\n",
    "    # 頭の空白は最初に音がなるところを前に伸ばす\n",
    "    on_note_steps = np.zeros(len(chord_pianoroll))\n",
    "    on_note_steps[chord_steps] = 1\n",
    "    last_step = chord_pianoroll[chord_steps[0]]\n",
    "    for step, is_on_note in enumerate(on_note_steps):\n",
    "        if is_on_note:\n",
    "            last_step = chord_pianoroll[step]\n",
    "        else:\n",
    "            chord_pianoroll[step] = last_step.copy()\n",
    "    \n",
    "    # コードトラックを作って返す\n",
    "    chord_track = Track(pianoroll=chord_pianoroll, name='chord')\n",
    "    return chord_track\n",
    "            \n",
    "    \n",
    "import warnings\n",
    "warnings.filterwarnings('error')\n",
    "\n",
    "def get_mono_poly_ppr(midi_path, ignored_programs, verbose=False):\n",
    "    with warnings.catch_warnings(): # Warningを出すようなファイルはつかわない. ex. 34132\n",
    "        try:\n",
    "            ptm = pretty_midi.PrettyMIDI(midi_path)\n",
    "        except RuntimeWarning as e:\n",
    "            if verbose: print(e)\n",
    "            return None\n",
    "        except Exception as e:\n",
    "            if verbose: print(e)\n",
    "            return None\n",
    "    if verbose: print('no error')\n",
    "    \n",
    "    if is_4_by_4(ptm) != True:\n",
    "        return None\n",
    "    if verbose: print('4 by 4')\n",
    "    \n",
    "    ptm = remove_ignored_programs(ptm, ignored_programs)\n",
    "    if len(ptm.instruments) < 2:\n",
    "        return None\n",
    "    if verbose: print('at least 2 instruments')\n",
    "    \n",
    "    ptm.remove_invalid_notes()\n",
    "    \n",
    "    ppr = Multitrack()\n",
    "    ppr.parse_pretty_midi(ptm)\n",
    "    ppr.binarize()\n",
    "    \n",
    "    ppr = down_beat_resolution(ppr)\n",
    "    \n",
    "    mono, poly = discriminate_mono_poly(ppr)\n",
    "    if verbose: print(f'mono: {mono}, poly: {poly}')\n",
    "    if len(mono) < 1 or len(poly) < 1:\n",
    "        return None\n",
    "    if verbose: print('enough mono and poly')\n",
    "    \n",
    "    chord_track = create_chord_track(ppr, poly)\n",
    "    ppr.tracks = [ppr.tracks[mono_id] for mono_id in mono]\n",
    "    ppr.tracks.append(chord_track)\n",
    "    ppr.name = midi_path.split('/')[-1].split('.')[0]\n",
    "    \n",
    "    return ppr"
   ]
  },
  {
   "cell_type": "code",
   "execution_count": 23,
   "metadata": {},
   "outputs": [
    {
     "name": "stdout",
     "output_type": "stream",
     "text": [
      "index: 51001\n",
      "path: ../datasets/largest_midi/original/B/B/brandy-almost_doesnt_count.mid\n",
      "no error\n",
      "4 by 4\n",
      "at least 2 instruments\n",
      "mono: [7], poly: [3, 5]\n",
      "enough mono and poly\n",
      "0.179714\n",
      "65.0\n"
     ]
    },
    {
     "data": {
      "image/png": "[encoded data removed]",
      "text/plain": [
       "<Figure size 1512x720 with 2 Axes>"
      ]
     },
     "metadata": {
      "needs_background": "light"
     },
     "output_type": "display_data"
    }
   ],
   "source": [
    "index = random.randint(0, len(all_midi_path)-1)\n",
    "print(f\"index: {index}\")\n",
    "sample_path = str(all_midi_path[index])\n",
    "print(f\"path: {sample_path}\")\n",
    "with Timer():\n",
    "    ppr = get_mono_poly_ppr(sample_path, ignored_programs, verbose=True)\n",
    "\n",
    "if ppr is not None:\n",
    "    bar_res = ppr.beat_resolution * 4\n",
    "    print(len(ppr.tracks[0].pianoroll) / bar_res)\n",
    "    for track in ppr.tracks:\n",
    "        track.pianoroll = track.pianoroll[bar_res*0:bar_res*8]\n",
    "    grid_plot(ppr)"
   ]
  },
  {
   "cell_type": "markdown",
   "metadata": {},
   "source": [
    "こういうのを求めてたんだよ  \n",
    "../datasets/largest_midi/M/M/maoztzur.mid  \n"
   ]
  },
  {
   "cell_type": "markdown",
   "metadata": {},
   "source": [
    "次の処理は実際の前処理に任せる\n",
    "- 16小節に区切って何もない小節でsplit\n",
    "    - 後で固定小節数を変更しても良いようにするため\n",
    "- 最小小節数を下回るフレーズの削除\n",
    "- メロディとコードの2パートからなるデータへの変換\n",
    "- メタタグ用次元の追加\n",
    "\n",
    "それでもなお質の良いデータとは言えなさそう…  \n",
    "コードを完全に埋める方法がないため  \n",
    "やっぱりMelodyの方がマシかな？  \n",
    "あんまり数変わらなかったらMelodyにしよっと"
   ]
  },
  {
   "cell_type": "markdown",
   "metadata": {},
   "source": [
    "### 並列処理と保存\n",
    "加工済みデータを一度MIDIとして保存する  \n",
    "本格的な前処理はモデルごとに行う"
   ]
  },
  {
   "cell_type": "code",
   "execution_count": 7,
   "metadata": {},
   "outputs": [],
   "source": [
    "mono_poly_dir = os.path.join(base_dir, \"mono_poly\")\n",
    "\n",
    "if not os.path.exists(mono_poly_dir):\n",
    "    os.mkdir(mono_poly_dir)\n",
    "\n",
    "head_dir_names = \"0123456789ABCDEFGHIJKLMNOPQRSTUVWXYZ\"\n",
    "for head_dir_name in head_dir_names:\n",
    "    head_dir = os.path.join(mono_poly_dir, head_dir_name)\n",
    "    if not os.path.exists(head_dir):\n",
    "        os.mkdir(head_dir)"
   ]
  },
  {
   "cell_type": "code",
   "execution_count": 8,
   "metadata": {},
   "outputs": [],
   "source": [
    "error_list = []\n",
    "def process_mono_poly(midi_path):\n",
    "    \n",
    "    try:\n",
    "        ppr = get_mono_poly_ppr(str(midi_path), ignored_programs)\n",
    "    except Exception as e:\n",
    "        error_list.append(midi_path)\n",
    "        return None\n",
    "    \n",
    "    if ppr is None:\n",
    "        return None\n",
    "    \n",
    "    name = ppr.name\n",
    "    relative_path = os.path.join(name[0].upper(), f\"{name}.mid\")\n",
    "    save_path = os.path.join(mono_poly_dir, relative_path)\n",
    "    ppr.write(save_path)\n",
    "    \n",
    "    return relative_path"
   ]
  },
  {
   "cell_type": "markdown",
   "metadata": {},
   "source": [
    "直列で動作テスト"
   ]
  },
  {
   "cell_type": "code",
   "execution_count": 9,
   "metadata": {},
   "outputs": [
    {
     "name": "stdout",
     "output_type": "stream",
     "text": [
      "2.809284\n",
      "result: 2 midi files saved\n"
     ]
    }
   ],
   "source": [
    "mono_poly_list = []\n",
    "with Timer():\n",
    "    for midi_path in all_midi_path[:10]:\n",
    "        relative_path = process_mono_poly(midi_path)\n",
    "        if relative_path is not None:\n",
    "            mono_poly_list.append(relative_path)\n",
    "\n",
    "print(f\"result: {len(mono_poly_list)} midi files saved\")"
   ]
  },
  {
   "cell_type": "code",
   "execution_count": null,
   "metadata": {},
   "outputs": [],
   "source": [
    "multi_cpu_num = 15\n",
    "p = Pool(multi_cpu_num)\n",
    "mono_poly_list = p.map(process_mono_poly, all_midi_path)\n",
    "mono_poly_list = [path for path in mono_poly_list if path is not None]\n",
    "print(f\"result: {len(mono_poly_list)} midi files saved\")"
   ]
  },
  {
   "cell_type": "markdown",
   "metadata": {},
   "source": [
    "## Melodyが入った曲のみを抽出"
   ]
  },
  {
   "cell_type": "code",
   "execution_count": 16,
   "metadata": {},
   "outputs": [],
   "source": [
    "def has_instrument_named(instrument_name, ptm, perfect_match=False):\n",
    "    for instrument in ptm.instruments:\n",
    "        name = instrument.name\n",
    "        name = name.lower()\n",
    "        \n",
    "        if perfect_match:\n",
    "            if instrument_name == name:\n",
    "                return True\n",
    "        else:\n",
    "            if instrument_name in name:\n",
    "                return True\n",
    "        \n",
    "    return False\n",
    "\n",
    "def get_midi_with_melody_ppr(midi_path, ignored_programs, verbose=False):\n",
    "    with warnings.catch_warnings(): # Warningを出すようなファイルはつかわない. ex. 34132\n",
    "        try:\n",
    "            ptm = pretty_midi.PrettyMIDI(midi_path)\n",
    "        except RuntimeWarning as e:\n",
    "            if verbose: print(e)\n",
    "            return None\n",
    "        except Exception as e:\n",
    "            if verbose: print(e)\n",
    "            return None\n",
    "    if verbose: print('no error')\n",
    "        \n",
    "    if not has_instrument_named('melody', ptm):\n",
    "        return None\n",
    "    if verbose: print('melody part found')\n",
    "    \n",
    "    if is_4_by_4(ptm) != True:\n",
    "        return None\n",
    "    if verbose: print('4 by 4')\n",
    "    \n",
    "    ptm = remove_ignored_programs(ptm, ignored_programs)\n",
    "    if len(ptm.instruments) < 2:\n",
    "        return None\n",
    "    if verbose: print('at least 2 instruments')\n",
    "    \n",
    "    ptm.remove_invalid_notes()\n",
    "    \n",
    "    ppr = Multitrack()\n",
    "    ppr.parse_pretty_midi(ptm)\n",
    "    ppr.binarize()\n",
    "    \n",
    "    ppr = down_beat_resolution(ppr)\n",
    "    \n",
    "    _, poly = discriminate_mono_poly(ppr)\n",
    "    if verbose: print(f'poly: {poly}')\n",
    "    if len(poly) < 1:\n",
    "        return None\n",
    "    if verbose: print('enough poly parts')\n",
    "    \n",
    "    chord_track = create_chord_track(ppr, poly)\n",
    "    ppr.tracks = [track for track in ppr.tracks if 'melody' in track.name.lower()]\n",
    "    ppr.tracks.append(chord_track)\n",
    "    ppr.name = midi_path.split('/')[-1].split('.')[0]\n",
    "    \n",
    "    return ppr"
   ]
  },
  {
   "cell_type": "code",
   "execution_count": 17,
   "metadata": {},
   "outputs": [],
   "source": [
    "with_melody_dir = os.path.join(base_dir, \"with_melody\")\n",
    "\n",
    "if not os.path.exists(with_melody_dir):\n",
    "    os.mkdir(with_melody_dir)\n",
    "\n",
    "head_dir_names = \"0123456789ABCDEFGHIJKLMNOPQRSTUVWXYZ\"\n",
    "for head_dir_name in head_dir_names:\n",
    "    head_dir = os.path.join(with_melody_dir, head_dir_name)\n",
    "    if not os.path.exists(head_dir):\n",
    "        os.mkdir(head_dir)"
   ]
  },
  {
   "cell_type": "code",
   "execution_count": 34,
   "metadata": {},
   "outputs": [],
   "source": [
    "error_list = []\n",
    "def process_midi_with_melody(midi_path):\n",
    "    \n",
    "    try:\n",
    "        ppr = get_midi_with_melody_ppr(str(midi_path), ignored_programs)\n",
    "    except Exception as e:\n",
    "        error_list.append(midi_path)\n",
    "        return None\n",
    "\n",
    "    if ppr is None:\n",
    "        return None\n",
    "    \n",
    "    name = ppr.name\n",
    "    relative_path = os.path.join(name[0].upper(), f\"{name}.mid\")\n",
    "    save_path = os.path.join(with_melody_dir, relative_path)\n",
    "    ppr.write(save_path)\n",
    "    \n",
    "    return relative_path"
   ]
  },
  {
   "cell_type": "markdown",
   "metadata": {},
   "source": [
    "直列で動作テスト"
   ]
  },
  {
   "cell_type": "code",
   "execution_count": 35,
   "metadata": {},
   "outputs": [
    {
     "name": "stdout",
     "output_type": "stream",
     "text": [
      "2.477001\n",
      "result: 0 midi files saved\n"
     ]
    }
   ],
   "source": [
    "with_melody_list = []\n",
    "with Timer():\n",
    "    for midi_path in all_midi_path[:10]:\n",
    "        relative_path = process_midi_with_melody(midi_path)\n",
    "        if relative_path is not None:\n",
    "            with_melody_list.append(relative_path)\n",
    "\n",
    "print(f\"result: {len(with_melody_list)} midi files saved\")"
   ]
  },
  {
   "cell_type": "code",
   "execution_count": null,
   "metadata": {},
   "outputs": [],
   "source": [
    "multi_cpu_num = 15\n",
    "p = Pool(multi_cpu_num)\n",
    "with_melody_list = p.map(process_midi_with_melody, all_midi_path)\n",
    "with_melody_list = [path for path in with_melody_list if path is not None]\n",
    "print(f\"result: {len(with_melody_list)} midi files saved\")"
   ]
  }
 ],
 "metadata": {
  "kernelspec": {
   "display_name": "Python 3",
   "language": "python",
   "name": "python3"
  },
  "language_info": {
   "codemirror_mode": {
    "name": "ipython",
    "version": 3
   },
   "file_extension": ".py",
   "mimetype": "text/x-python",
   "name": "python",
   "nbconvert_exporter": "python",
   "pygments_lexer": "ipython3",
   "version": "3.7.3"
  }
 },
 "nbformat": 4,
 "nbformat_minor": 4
}
