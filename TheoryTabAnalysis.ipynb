{
 "cells": [
  {
   "cell_type": "code",
   "execution_count": 2,
   "metadata": {},
   "outputs": [
    {
     "data": {
      "text/html": [
       "<div>\n",
       "<style scoped>\n",
       "    .dataframe tbody tr th:only-of-type {\n",
       "        vertical-align: middle;\n",
       "    }\n",
       "\n",
       "    .dataframe tbody tr th {\n",
       "        vertical-align: top;\n",
       "    }\n",
       "\n",
       "    .dataframe thead th {\n",
       "        text-align: right;\n",
       "    }\n",
       "</style>\n",
       "<table border=\"1\" class=\"dataframe\">\n",
       "  <thead>\n",
       "    <tr style=\"text-align: right;\">\n",
       "      <th></th>\n",
       "      <th>Unnamed: 0</th>\n",
       "      <th>path</th>\n",
       "      <th>artist</th>\n",
       "      <th>song</th>\n",
       "      <th>section</th>\n",
       "      <th>nokey</th>\n",
       "      <th>key_signature</th>\n",
       "      <th>estimated_key_signature</th>\n",
       "      <th>in_scale_rate</th>\n",
       "      <th>estimated_in_scale_rate</th>\n",
       "      <th>...</th>\n",
       "      <th>lowest_melody</th>\n",
       "      <th>highest_chord</th>\n",
       "      <th>lowest_chord</th>\n",
       "      <th>bpm</th>\n",
       "      <th>time_signature</th>\n",
       "      <th>beats</th>\n",
       "      <th>bars</th>\n",
       "      <th>time</th>\n",
       "      <th>has_melody_track</th>\n",
       "      <th>has_chord_track</th>\n",
       "    </tr>\n",
       "  </thead>\n",
       "  <tbody>\n",
       "    <tr>\n",
       "      <td>0</td>\n",
       "      <td>0</td>\n",
       "      <td>q/quincy-jones-and-his-orchestra/soul-bossa-no...</td>\n",
       "      <td>quincy-jones-and-his-orchestra</td>\n",
       "      <td>soul-bossa-nova</td>\n",
       "      <td>chorus</td>\n",
       "      <td>False</td>\n",
       "      <td>Bb Major</td>\n",
       "      <td>Bb Major</td>\n",
       "      <td>0.88278</td>\n",
       "      <td>0.88278</td>\n",
       "      <td>...</td>\n",
       "      <td>65.0</td>\n",
       "      <td>63.0</td>\n",
       "      <td>43.0</td>\n",
       "      <td>146</td>\n",
       "      <td>4/4</td>\n",
       "      <td>48</td>\n",
       "      <td>12</td>\n",
       "      <td>19.73</td>\n",
       "      <td>True</td>\n",
       "      <td>True</td>\n",
       "    </tr>\n",
       "    <tr>\n",
       "      <td>1</td>\n",
       "      <td>1</td>\n",
       "      <td>q/quincy-jones-and-his-orchestra/soul-bossa-no...</td>\n",
       "      <td>quincy-jones-and-his-orchestra</td>\n",
       "      <td>soul-bossa-nova</td>\n",
       "      <td>chorus</td>\n",
       "      <td>True</td>\n",
       "      <td>Bb Major</td>\n",
       "      <td>C Major</td>\n",
       "      <td>0.74186</td>\n",
       "      <td>0.88278</td>\n",
       "      <td>...</td>\n",
       "      <td>55.0</td>\n",
       "      <td>60.0</td>\n",
       "      <td>43.0</td>\n",
       "      <td>146</td>\n",
       "      <td>4/4</td>\n",
       "      <td>48</td>\n",
       "      <td>12</td>\n",
       "      <td>19.73</td>\n",
       "      <td>True</td>\n",
       "      <td>True</td>\n",
       "    </tr>\n",
       "    <tr>\n",
       "      <td>2</td>\n",
       "      <td>2</td>\n",
       "      <td>q/queen-and-bowie/under-pressure/intro-and-ver...</td>\n",
       "      <td>queen-and-bowie</td>\n",
       "      <td>under-pressure</td>\n",
       "      <td>intro,verse</td>\n",
       "      <td>False</td>\n",
       "      <td>D Major</td>\n",
       "      <td>D Major</td>\n",
       "      <td>1.00000</td>\n",
       "      <td>1.00000</td>\n",
       "      <td>...</td>\n",
       "      <td>57.0</td>\n",
       "      <td>57.0</td>\n",
       "      <td>45.0</td>\n",
       "      <td>120</td>\n",
       "      <td>4/4</td>\n",
       "      <td>32</td>\n",
       "      <td>8</td>\n",
       "      <td>16.00</td>\n",
       "      <td>True</td>\n",
       "      <td>True</td>\n",
       "    </tr>\n",
       "    <tr>\n",
       "      <td>3</td>\n",
       "      <td>3</td>\n",
       "      <td>q/queen-and-bowie/under-pressure/intro-and-ver...</td>\n",
       "      <td>queen-and-bowie</td>\n",
       "      <td>under-pressure</td>\n",
       "      <td>intro,verse</td>\n",
       "      <td>True</td>\n",
       "      <td>D Major</td>\n",
       "      <td>C Major</td>\n",
       "      <td>0.74297</td>\n",
       "      <td>1.00000</td>\n",
       "      <td>...</td>\n",
       "      <td>55.0</td>\n",
       "      <td>55.0</td>\n",
       "      <td>43.0</td>\n",
       "      <td>120</td>\n",
       "      <td>4/4</td>\n",
       "      <td>32</td>\n",
       "      <td>8</td>\n",
       "      <td>16.00</td>\n",
       "      <td>True</td>\n",
       "      <td>True</td>\n",
       "    </tr>\n",
       "    <tr>\n",
       "      <td>4</td>\n",
       "      <td>4</td>\n",
       "      <td>q/queen-and-bowie/under-pressure/intro_nokey.mid</td>\n",
       "      <td>queen-and-bowie</td>\n",
       "      <td>under-pressure</td>\n",
       "      <td>intro</td>\n",
       "      <td>True</td>\n",
       "      <td>D Major</td>\n",
       "      <td>C Major</td>\n",
       "      <td>0.65812</td>\n",
       "      <td>1.00000</td>\n",
       "      <td>...</td>\n",
       "      <td>55.0</td>\n",
       "      <td>59.0</td>\n",
       "      <td>48.0</td>\n",
       "      <td>240</td>\n",
       "      <td>4/4</td>\n",
       "      <td>32</td>\n",
       "      <td>8</td>\n",
       "      <td>8.00</td>\n",
       "      <td>True</td>\n",
       "      <td>True</td>\n",
       "    </tr>\n",
       "    <tr>\n",
       "      <td>...</td>\n",
       "      <td>...</td>\n",
       "      <td>...</td>\n",
       "      <td>...</td>\n",
       "      <td>...</td>\n",
       "      <td>...</td>\n",
       "      <td>...</td>\n",
       "      <td>...</td>\n",
       "      <td>...</td>\n",
       "      <td>...</td>\n",
       "      <td>...</td>\n",
       "      <td>...</td>\n",
       "      <td>...</td>\n",
       "      <td>...</td>\n",
       "      <td>...</td>\n",
       "      <td>...</td>\n",
       "      <td>...</td>\n",
       "      <td>...</td>\n",
       "      <td>...</td>\n",
       "      <td>...</td>\n",
       "      <td>...</td>\n",
       "      <td>...</td>\n",
       "    </tr>\n",
       "    <tr>\n",
       "      <td>39609</td>\n",
       "      <td>39609</td>\n",
       "      <td>m/myla-smith/cant-say-no/verse_nokey.mid</td>\n",
       "      <td>myla-smith</td>\n",
       "      <td>cant-say-no</td>\n",
       "      <td>verse</td>\n",
       "      <td>True</td>\n",
       "      <td>E Major</td>\n",
       "      <td>C Major</td>\n",
       "      <td>0.34148</td>\n",
       "      <td>0.98072</td>\n",
       "      <td>...</td>\n",
       "      <td>57.0</td>\n",
       "      <td>60.0</td>\n",
       "      <td>43.0</td>\n",
       "      <td>124</td>\n",
       "      <td>4/4</td>\n",
       "      <td>33</td>\n",
       "      <td>8</td>\n",
       "      <td>15.48</td>\n",
       "      <td>True</td>\n",
       "      <td>True</td>\n",
       "    </tr>\n",
       "    <tr>\n",
       "      <td>39610</td>\n",
       "      <td>39610</td>\n",
       "      <td>m/myla-smith/slow-down/verse-and-pre-chorus_ke...</td>\n",
       "      <td>myla-smith</td>\n",
       "      <td>slow-down</td>\n",
       "      <td>verse,pre-chorus</td>\n",
       "      <td>False</td>\n",
       "      <td>D Major</td>\n",
       "      <td>D Major</td>\n",
       "      <td>1.00000</td>\n",
       "      <td>1.00000</td>\n",
       "      <td>...</td>\n",
       "      <td>57.0</td>\n",
       "      <td>57.0</td>\n",
       "      <td>43.0</td>\n",
       "      <td>128</td>\n",
       "      <td>4/4</td>\n",
       "      <td>57</td>\n",
       "      <td>14</td>\n",
       "      <td>26.25</td>\n",
       "      <td>True</td>\n",
       "      <td>True</td>\n",
       "    </tr>\n",
       "    <tr>\n",
       "      <td>39611</td>\n",
       "      <td>39611</td>\n",
       "      <td>m/myla-smith/slow-down/verse-and-pre-chorus_no...</td>\n",
       "      <td>myla-smith</td>\n",
       "      <td>slow-down</td>\n",
       "      <td>verse,pre-chorus</td>\n",
       "      <td>True</td>\n",
       "      <td>D Major</td>\n",
       "      <td>C Major</td>\n",
       "      <td>0.71247</td>\n",
       "      <td>1.00000</td>\n",
       "      <td>...</td>\n",
       "      <td>55.0</td>\n",
       "      <td>60.0</td>\n",
       "      <td>43.0</td>\n",
       "      <td>128</td>\n",
       "      <td>4/4</td>\n",
       "      <td>57</td>\n",
       "      <td>14</td>\n",
       "      <td>26.25</td>\n",
       "      <td>True</td>\n",
       "      <td>True</td>\n",
       "    </tr>\n",
       "    <tr>\n",
       "      <td>39612</td>\n",
       "      <td>39612</td>\n",
       "      <td>m/myla-smith/slow-down/chorus_key.mid</td>\n",
       "      <td>myla-smith</td>\n",
       "      <td>slow-down</td>\n",
       "      <td>chorus</td>\n",
       "      <td>False</td>\n",
       "      <td>D Major</td>\n",
       "      <td>D Major</td>\n",
       "      <td>1.00000</td>\n",
       "      <td>1.00000</td>\n",
       "      <td>...</td>\n",
       "      <td>55.0</td>\n",
       "      <td>57.0</td>\n",
       "      <td>43.0</td>\n",
       "      <td>128</td>\n",
       "      <td>4/4</td>\n",
       "      <td>28</td>\n",
       "      <td>7</td>\n",
       "      <td>13.12</td>\n",
       "      <td>True</td>\n",
       "      <td>True</td>\n",
       "    </tr>\n",
       "    <tr>\n",
       "      <td>39613</td>\n",
       "      <td>39613</td>\n",
       "      <td>m/myla-smith/slow-down/chorus_nokey.mid</td>\n",
       "      <td>myla-smith</td>\n",
       "      <td>slow-down</td>\n",
       "      <td>chorus</td>\n",
       "      <td>True</td>\n",
       "      <td>D Major</td>\n",
       "      <td>C Major</td>\n",
       "      <td>0.69000</td>\n",
       "      <td>1.00000</td>\n",
       "      <td>...</td>\n",
       "      <td>53.0</td>\n",
       "      <td>60.0</td>\n",
       "      <td>43.0</td>\n",
       "      <td>128</td>\n",
       "      <td>4/4</td>\n",
       "      <td>28</td>\n",
       "      <td>7</td>\n",
       "      <td>13.12</td>\n",
       "      <td>True</td>\n",
       "      <td>True</td>\n",
       "    </tr>\n",
       "  </tbody>\n",
       "</table>\n",
       "<p>39614 rows × 22 columns</p>\n",
       "</div>"
      ],
      "text/plain": [
       "       Unnamed: 0                                               path  \\\n",
       "0               0  q/quincy-jones-and-his-orchestra/soul-bossa-no...   \n",
       "1               1  q/quincy-jones-and-his-orchestra/soul-bossa-no...   \n",
       "2               2  q/queen-and-bowie/under-pressure/intro-and-ver...   \n",
       "3               3  q/queen-and-bowie/under-pressure/intro-and-ver...   \n",
       "4               4   q/queen-and-bowie/under-pressure/intro_nokey.mid   \n",
       "...           ...                                                ...   \n",
       "39609       39609           m/myla-smith/cant-say-no/verse_nokey.mid   \n",
       "39610       39610  m/myla-smith/slow-down/verse-and-pre-chorus_ke...   \n",
       "39611       39611  m/myla-smith/slow-down/verse-and-pre-chorus_no...   \n",
       "39612       39612              m/myla-smith/slow-down/chorus_key.mid   \n",
       "39613       39613            m/myla-smith/slow-down/chorus_nokey.mid   \n",
       "\n",
       "                               artist             song           section  \\\n",
       "0      quincy-jones-and-his-orchestra  soul-bossa-nova            chorus   \n",
       "1      quincy-jones-and-his-orchestra  soul-bossa-nova            chorus   \n",
       "2                     queen-and-bowie   under-pressure       intro,verse   \n",
       "3                     queen-and-bowie   under-pressure       intro,verse   \n",
       "4                     queen-and-bowie   under-pressure             intro   \n",
       "...                               ...              ...               ...   \n",
       "39609                      myla-smith      cant-say-no             verse   \n",
       "39610                      myla-smith        slow-down  verse,pre-chorus   \n",
       "39611                      myla-smith        slow-down  verse,pre-chorus   \n",
       "39612                      myla-smith        slow-down            chorus   \n",
       "39613                      myla-smith        slow-down            chorus   \n",
       "\n",
       "       nokey key_signature estimated_key_signature  in_scale_rate  \\\n",
       "0      False      Bb Major                Bb Major        0.88278   \n",
       "1       True      Bb Major                 C Major        0.74186   \n",
       "2      False       D Major                 D Major        1.00000   \n",
       "3       True       D Major                 C Major        0.74297   \n",
       "4       True       D Major                 C Major        0.65812   \n",
       "...      ...           ...                     ...            ...   \n",
       "39609   True       E Major                 C Major        0.34148   \n",
       "39610  False       D Major                 D Major        1.00000   \n",
       "39611   True       D Major                 C Major        0.71247   \n",
       "39612  False       D Major                 D Major        1.00000   \n",
       "39613   True       D Major                 C Major        0.69000   \n",
       "\n",
       "       estimated_in_scale_rate  ...  lowest_melody  highest_chord  \\\n",
       "0                      0.88278  ...           65.0           63.0   \n",
       "1                      0.88278  ...           55.0           60.0   \n",
       "2                      1.00000  ...           57.0           57.0   \n",
       "3                      1.00000  ...           55.0           55.0   \n",
       "4                      1.00000  ...           55.0           59.0   \n",
       "...                        ...  ...            ...            ...   \n",
       "39609                  0.98072  ...           57.0           60.0   \n",
       "39610                  1.00000  ...           57.0           57.0   \n",
       "39611                  1.00000  ...           55.0           60.0   \n",
       "39612                  1.00000  ...           55.0           57.0   \n",
       "39613                  1.00000  ...           53.0           60.0   \n",
       "\n",
       "       lowest_chord  bpm  time_signature  beats bars   time  has_melody_track  \\\n",
       "0              43.0  146             4/4     48   12  19.73              True   \n",
       "1              43.0  146             4/4     48   12  19.73              True   \n",
       "2              45.0  120             4/4     32    8  16.00              True   \n",
       "3              43.0  120             4/4     32    8  16.00              True   \n",
       "4              48.0  240             4/4     32    8   8.00              True   \n",
       "...             ...  ...             ...    ...  ...    ...               ...   \n",
       "39609          43.0  124             4/4     33    8  15.48              True   \n",
       "39610          43.0  128             4/4     57   14  26.25              True   \n",
       "39611          43.0  128             4/4     57   14  26.25              True   \n",
       "39612          43.0  128             4/4     28    7  13.12              True   \n",
       "39613          43.0  128             4/4     28    7  13.12              True   \n",
       "\n",
       "       has_chord_track  \n",
       "0                 True  \n",
       "1                 True  \n",
       "2                 True  \n",
       "3                 True  \n",
       "4                 True  \n",
       "...                ...  \n",
       "39609             True  \n",
       "39610             True  \n",
       "39611             True  \n",
       "39612             True  \n",
       "39613             True  \n",
       "\n",
       "[39614 rows x 22 columns]"
      ]
     },
     "execution_count": 2,
     "metadata": {},
     "output_type": "execute_result"
    }
   ],
   "source": [
    "import numpy as np\n",
    "import pandas as pd\n",
    "import pretty_midi\n",
    "from pypianoroll import Multitrack\n",
    "from utils import grid_plot\n",
    "import matplotlib.pyplot as plt\n",
    "%matplotlib inline\n",
    "\n",
    "df = pd.read_csv(\"../datasets/theorytab/theorytab.csv\")\n",
    "df"
   ]
  },
  {
   "cell_type": "code",
   "execution_count": 9,
   "metadata": {},
   "outputs": [
    {
     "name": "stdout",
     "output_type": "stream",
     "text": [
      "sample 0 picked from q/quincy-jones-and-his-orchestra/soul-bossa-nova/chorus_key.mid\n"
     ]
    },
    {
     "data": {
      "image/png": "[encoded data removed]",
      "text/plain": [
       "<Figure size 1512x720 with 2 Axes>"
      ]
     },
     "metadata": {
      "needs_background": "light"
     },
     "output_type": "display_data"
    }
   ],
   "source": [
    "input_dir = \"../datasets/theorytab/pianoroll\"\n",
    "\n",
    "def get_sample(index=0, get_series=False):\n",
    "    path = df.loc[index]['path']\n",
    "    ppr = Multitrack(f\"{input_dir}/{path}\")\n",
    "    print(f\"sample {index} picked from {path}\")\n",
    "    if get_series:\n",
    "        return ppr, df.loc[index]\n",
    "    else:\n",
    "        return ppr\n",
    "\n",
    "grid_plot(get_sample())"
   ]
  },
  {
   "cell_type": "code",
   "execution_count": 3,
   "metadata": {},
   "outputs": [
    {
     "name": "stdout",
     "output_type": "stream",
     "text": [
      "# of songs: 11039\n"
     ]
    }
   ],
   "source": [
    "print(\"# of songs:\", len(df['song'].unique()))"
   ]
  },
  {
   "cell_type": "code",
   "execution_count": 4,
   "metadata": {},
   "outputs": [
    {
     "name": "stdout",
     "output_type": "stream",
     "text": [
      "max melody pitch range 62\n"
     ]
    }
   ],
   "source": [
    "hl = df[['highest_melody', 'lowest_melody']].to_numpy()\n",
    "ranges = np.array([ h-l for h, l in hl if not np.isnan(h)], dtype=int)\n",
    "print(\"max melody pitch range\", max(ranges))"
   ]
  },
  {
   "cell_type": "code",
   "execution_count": 5,
   "metadata": {},
   "outputs": [
    {
     "data": {
      "image/png": "[encoded data removed]",
      "text/plain": [
       "<Figure size 432x288 with 1 Axes>"
      ]
     },
     "metadata": {
      "needs_background": "light"
     },
     "output_type": "display_data"
    }
   ],
   "source": [
    "plt.hist(ranges)\n",
    "plt.show()"
   ]
  },
  {
   "cell_type": "code",
   "execution_count": 6,
   "metadata": {},
   "outputs": [
    {
     "name": "stdout",
     "output_type": "stream",
     "text": [
      "pitch range is in 2 octaves: 0.8226384611500984\n"
     ]
    }
   ],
   "source": [
    "print(\"pitch range is in 2 octaves:\", len(ranges[ranges < 24]) / len(df))"
   ]
  },
  {
   "cell_type": "markdown",
   "metadata": {},
   "source": [
    "確かに2オクターブ内にメロディをシフトしてもあまり問題はないのかもしれない"
   ]
  },
  {
   "cell_type": "code",
   "execution_count": 7,
   "metadata": {},
   "outputs": [
    {
     "name": "stdout",
     "output_type": "stream",
     "text": [
      "highests: [ 32.  35.  36.  37.  39.  41.  43.  44.  45.  46.  47.  48.  49.  50.\n",
      "  51.  52.  53.  54.  55.  56.  57.  58.  59.  60.  61.  62.  63.  64.\n",
      "  65.  66.  67.  68.  69.  70.  71.  72.  73.  74.  75.  76.  77.  78.\n",
      "  79.  80.  81.  82.  83.  84.  85.  86.  87.  88.  89.  90.  91.  92.\n",
      "  93.  94.  95.  96.  97.  98.  99. 100. 101. 102. 103. 104. 105.  nan]\n"
     ]
    },
    {
     "name": "stderr",
     "output_type": "stream",
     "text": [
      "/root/midi/.venv/lib/python3.7/site-packages/numpy/lib/histograms.py:829: RuntimeWarning: invalid value encountered in greater_equal\n",
      "  keep = (tmp_a >= first_edge)\n",
      "/root/midi/.venv/lib/python3.7/site-packages/numpy/lib/histograms.py:830: RuntimeWarning: invalid value encountered in less_equal\n",
      "  keep &= (tmp_a <= last_edge)\n"
     ]
    },
    {
     "data": {
      "image/png": "[encoded data removed]",
      "text/plain": [
       "<Figure size 432x288 with 1 Axes>"
      ]
     },
     "metadata": {
      "needs_background": "light"
     },
     "output_type": "display_data"
    }
   ],
   "source": [
    "print(\"highests:\", np.sort(df['highest_melody'].unique()))\n",
    "plt.hist(df[\"highest_melody\"])\n",
    "plt.show()"
   ]
  },
  {
   "cell_type": "code",
   "execution_count": 8,
   "metadata": {},
   "outputs": [
    {
     "name": "stdout",
     "output_type": "stream",
     "text": [
      "lowests: [14. 19. 20. 22. 24. 25. 26. 27. 28. 29. 30. 31. 32. 33. 34. 35. 36. 37.\n",
      " 38. 39. 40. 41. 42. 43. 44. 45. 46. 47. 48. 49. 50. 51. 52. 53. 54. 55.\n",
      " 56. 57. 58. 59. 60. 61. 62. 63. 64. 65. 66. 67. 68. 69. 70. 71. 72. 73.\n",
      " 74. 75. 76. 77. 78. 79. 80. 81. 82. 83. 84. 85. 86. 87. 93. 96. nan]\n"
     ]
    },
    {
     "data": {
      "image/png": "[encoded data removed]",
      "text/plain": [
       "<Figure size 432x288 with 1 Axes>"
      ]
     },
     "metadata": {
      "needs_background": "light"
     },
     "output_type": "display_data"
    }
   ],
   "source": [
    "print(\"lowests:\", np.sort(df['lowest_melody'].unique()))\n",
    "plt.hist(df[\"lowest_melody\"])\n",
    "plt.show()"
   ]
  },
  {
   "cell_type": "code",
   "execution_count": 9,
   "metadata": {},
   "outputs": [
    {
     "name": "stdout",
     "output_type": "stream",
     "text": [
      "60 83\n"
     ]
    }
   ],
   "source": [
    "bottom = pretty_midi.note_name_to_number(\"C4\")\n",
    "top = pretty_midi.note_name_to_number(\"B5\")\n",
    "\n",
    "print(bottom, top)"
   ]
  },
  {
   "cell_type": "code",
   "execution_count": 10,
   "metadata": {},
   "outputs": [
    {
     "name": "stdout",
     "output_type": "stream",
     "text": [
      "highests lower than bottom: 1045\n",
      "highests higher than top: 2987\n",
      "lowests lower than bottom: 19070\n",
      "lowests higher than top: 8\n"
     ]
    }
   ],
   "source": [
    "print(\"highests lower than bottom:\", len(df[bottom > df['highest_melody']]))\n",
    "print(\"highests higher than top:\", len(df[top < df['highest_melody']]))\n",
    "print(\"lowests lower than bottom:\", len(df[bottom > df['lowest_melody']]))\n",
    "print(\"lowests higher than top:\", len(df[top < df['lowest_melody']]))"
   ]
  },
  {
   "cell_type": "markdown",
   "metadata": {},
   "source": [
    "C4は削り過ぎじゃない？"
   ]
  },
  {
   "cell_type": "code",
   "execution_count": 11,
   "metadata": {},
   "outputs": [
    {
     "name": "stdout",
     "output_type": "stream",
     "text": [
      "48 83\n"
     ]
    }
   ],
   "source": [
    "bottom = pretty_midi.note_name_to_number(\"C3\")\n",
    "top = pretty_midi.note_name_to_number(\"B5\")\n",
    "\n",
    "print(bottom, top)"
   ]
  },
  {
   "cell_type": "code",
   "execution_count": 12,
   "metadata": {},
   "outputs": [
    {
     "name": "stdout",
     "output_type": "stream",
     "text": [
      "highests lower than bottom: 31\n",
      "highests higher than top: 2987\n",
      "lowests lower than bottom: 2249\n",
      "lowests higher than top: 8\n"
     ]
    }
   ],
   "source": [
    "print(\"highests lower than bottom:\", len(df[bottom > df['highest_melody']]))\n",
    "print(\"highests higher than top:\", len(df[top < df['highest_melody']]))\n",
    "print(\"lowests lower than bottom:\", len(df[bottom > df['lowest_melody']]))\n",
    "print(\"lowests higher than top:\", len(df[top < df['lowest_melody']]))"
   ]
  },
  {
   "cell_type": "markdown",
   "metadata": {},
   "source": [
    "C3くらいならよくない？"
   ]
  },
  {
   "cell_type": "code",
   "execution_count": 13,
   "metadata": {},
   "outputs": [
    {
     "name": "stdout",
     "output_type": "stream",
     "text": [
      "time signature is 4/4: 0.9142222446609785\n"
     ]
    }
   ],
   "source": [
    "print(\"time signature is 4/4:\", len(df[df['time_signature'] == \"4/4\"]) / len(df))"
   ]
  },
  {
   "cell_type": "markdown",
   "metadata": {},
   "source": [
    "4/4のみの曲に限定しても大して影響はない"
   ]
  },
  {
   "cell_type": "code",
   "execution_count": 14,
   "metadata": {},
   "outputs": [
    {
     "name": "stdout",
     "output_type": "stream",
     "text": [
      "[49. 50. 51. 52. 53. 54. 55. 56. 57. 58. 59. 60. 61. 62. 63. 64. 65. 66.\n",
      " 67. 68. 69. 70. 71. 91. 93. nan]\n",
      "[36. 38. 42. 43. 44. 45. 46. 47. 48. 49. 50. 51. 52. 53. nan]\n"
     ]
    },
    {
     "data": {
      "image/png": "[encoded data removed]",
      "text/plain": [
       "<Figure size 432x288 with 1 Axes>"
      ]
     },
     "metadata": {
      "needs_background": "light"
     },
     "output_type": "display_data"
    }
   ],
   "source": [
    "hl = df[['highest_chord', 'lowest_chord']]\n",
    "print(np.sort(df['highest_chord'].unique()))\n",
    "print(np.sort(df['lowest_chord'].unique()))\n",
    "hl = hl.to_numpy()\n",
    "ranges = np.array([ h-l for h, l in hl if not np.isnan(h)], dtype=int)\n",
    "plt.hist(ranges)\n",
    "plt.show()"
   ]
  },
  {
   "cell_type": "code",
   "execution_count": 15,
   "metadata": {},
   "outputs": [
    {
     "data": {
      "text/html": [
       "<div>\n",
       "<style scoped>\n",
       "    .dataframe tbody tr th:only-of-type {\n",
       "        vertical-align: middle;\n",
       "    }\n",
       "\n",
       "    .dataframe tbody tr th {\n",
       "        vertical-align: top;\n",
       "    }\n",
       "\n",
       "    .dataframe thead th {\n",
       "        text-align: right;\n",
       "    }\n",
       "</style>\n",
       "<table border=\"1\" class=\"dataframe\">\n",
       "  <thead>\n",
       "    <tr style=\"text-align: right;\">\n",
       "      <th></th>\n",
       "      <th>Unnamed: 0</th>\n",
       "      <th>path</th>\n",
       "      <th>artist</th>\n",
       "      <th>song</th>\n",
       "      <th>section</th>\n",
       "      <th>nokey</th>\n",
       "      <th>key_signature</th>\n",
       "      <th>estimated_key_signature</th>\n",
       "      <th>in_scale_rate</th>\n",
       "      <th>estimated_in_scale_rate</th>\n",
       "      <th>...</th>\n",
       "      <th>lowest_melody</th>\n",
       "      <th>highest_chord</th>\n",
       "      <th>lowest_chord</th>\n",
       "      <th>bpm</th>\n",
       "      <th>time_signature</th>\n",
       "      <th>beats</th>\n",
       "      <th>bars</th>\n",
       "      <th>time</th>\n",
       "      <th>has_melody_track</th>\n",
       "      <th>has_chord_track</th>\n",
       "    </tr>\n",
       "  </thead>\n",
       "  <tbody>\n",
       "    <tr>\n",
       "      <td>9278</td>\n",
       "      <td>9278</td>\n",
       "      <td>a/arvo-part/silentium/intro-and-verse_key.mid</td>\n",
       "      <td>arvo-part</td>\n",
       "      <td>silentium</td>\n",
       "      <td>intro,verse</td>\n",
       "      <td>False</td>\n",
       "      <td>D Major</td>\n",
       "      <td>A minor</td>\n",
       "      <td>0.68238</td>\n",
       "      <td>0.96648</td>\n",
       "      <td>...</td>\n",
       "      <td>NaN</td>\n",
       "      <td>93.0</td>\n",
       "      <td>38.0</td>\n",
       "      <td>240</td>\n",
       "      <td>6/4</td>\n",
       "      <td>78</td>\n",
       "      <td>13</td>\n",
       "      <td>19.5</td>\n",
       "      <td>False</td>\n",
       "      <td>True</td>\n",
       "    </tr>\n",
       "    <tr>\n",
       "      <td>9279</td>\n",
       "      <td>9279</td>\n",
       "      <td>a/arvo-part/silentium/intro-and-verse_nokey.mid</td>\n",
       "      <td>arvo-part</td>\n",
       "      <td>silentium</td>\n",
       "      <td>intro,verse</td>\n",
       "      <td>True</td>\n",
       "      <td>D Major</td>\n",
       "      <td>G minor</td>\n",
       "      <td>0.42854</td>\n",
       "      <td>0.96648</td>\n",
       "      <td>...</td>\n",
       "      <td>NaN</td>\n",
       "      <td>91.0</td>\n",
       "      <td>36.0</td>\n",
       "      <td>240</td>\n",
       "      <td>6/4</td>\n",
       "      <td>78</td>\n",
       "      <td>13</td>\n",
       "      <td>19.5</td>\n",
       "      <td>False</td>\n",
       "      <td>True</td>\n",
       "    </tr>\n",
       "  </tbody>\n",
       "</table>\n",
       "<p>2 rows × 22 columns</p>\n",
       "</div>"
      ],
      "text/plain": [
       "      Unnamed: 0                                             path     artist  \\\n",
       "9278        9278    a/arvo-part/silentium/intro-and-verse_key.mid  arvo-part   \n",
       "9279        9279  a/arvo-part/silentium/intro-and-verse_nokey.mid  arvo-part   \n",
       "\n",
       "           song      section  nokey key_signature estimated_key_signature  \\\n",
       "9278  silentium  intro,verse  False       D Major                 A minor   \n",
       "9279  silentium  intro,verse   True       D Major                 G minor   \n",
       "\n",
       "      in_scale_rate  estimated_in_scale_rate  ...  lowest_melody  \\\n",
       "9278        0.68238                  0.96648  ...            NaN   \n",
       "9279        0.42854                  0.96648  ...            NaN   \n",
       "\n",
       "      highest_chord  lowest_chord  bpm  time_signature  beats bars  time  \\\n",
       "9278           93.0          38.0  240             6/4     78   13  19.5   \n",
       "9279           91.0          36.0  240             6/4     78   13  19.5   \n",
       "\n",
       "      has_melody_track  has_chord_track  \n",
       "9278             False             True  \n",
       "9279             False             True  \n",
       "\n",
       "[2 rows x 22 columns]"
      ]
     },
     "execution_count": 15,
     "metadata": {},
     "output_type": "execute_result"
    }
   ],
   "source": [
    "df[df['highest_chord'] > 90]"
   ]
  },
  {
   "cell_type": "markdown",
   "metadata": {},
   "source": [
    "コード判定の範囲は36～72の3オクターブで問題ない"
   ]
  },
  {
   "cell_type": "markdown",
   "metadata": {},
   "source": [
    "曲の[セクション](https://dawlesson.net/technique/20170120/)について  "
   ]
  },
  {
   "cell_type": "code",
   "execution_count": 16,
   "metadata": {},
   "outputs": [
    {
     "name": "stdout",
     "output_type": "stream",
     "text": [
      "chorus: 5646\n",
      "verse: 3848\n",
      "intro: 2041\n",
      "pre-chorus: 1008\n",
      "bridge: 735\n",
      "intro,verse: 732\n",
      "instrumental: 576\n",
      "verse,pre-chorus: 519\n",
      "pre-chorus,chorus: 358\n",
      "outro: 288\n",
      "chorus-lead-out: 241\n",
      "solo: 199\n",
      "solo-1: 57\n",
      "pre-outro: 45\n",
      "solo-2: 39\n",
      "solo-3: 12\n",
      "outro-1: 10\n",
      "outro-2: 7\n",
      "loop: 3\n",
      "variation-18: 1\n",
      "variation-1: 1\n",
      "lead-in-alt: 1\n",
      "theme: 1\n",
      "lead-in: 1\n",
      "verse-2: 1\n",
      "verse-1: 1\n",
      "chorus-2: 1\n",
      "intro,chorus: 1\n",
      "intro-2: 1\n",
      "development-2: 1\n",
      "theme-3-recap: 1\n",
      "theme-2: 1\n",
      "development-1: 1\n",
      "theme-3: 1\n",
      "theme-2-recap: 1\n",
      "theme-1: 1\n",
      "intro-1: 1\n",
      "secondary-development: 1\n",
      "variation-17: 1\n",
      "nan: 0\n"
     ]
    },
    {
     "name": "stderr",
     "output_type": "stream",
     "text": [
      "/root/midi/.venv/lib/python3.7/site-packages/ipykernel_launcher.py:1: UserWarning: Boolean Series key will be reindexed to match DataFrame index.\n",
      "  \"\"\"Entry point for launching an IPython kernel.\n"
     ]
    }
   ],
   "source": [
    "df_midinet = df[df[\"nokey\"]][df[\"time_signature\"] == \"4/4\"][df[\"has_melody_track\"]][df[\"has_chord_track\"]]\n",
    "part_names = []\n",
    "part_nums = []\n",
    "for part in df_midinet[\"section\"].unique():\n",
    "    part_names.append(part)\n",
    "    part_nums.append(df_midinet[df_midinet[\"section\"] == part].shape[0])\n",
    "part_nums, part_names = np.array(part_nums), np.array(part_names)\n",
    "idx = np.argsort(part_nums)[::-1]\n",
    "for name, num in zip(part_names[idx], part_nums[idx]):\n",
    "    print(f\"{name}: {num}\")"
   ]
  },
  {
   "cell_type": "markdown",
   "metadata": {},
   "source": [
    "次の6つに分ける  \n",
    "複数持ちは以下のリストで上にあるものを優先  \n",
    "全体に占める割合も多くないのでちょっとぼやけても問題ないはず？\n",
    "- intro, lead-in\n",
    "- verse\n",
    "- bridge(pre-chorus)\n",
    "- chorus(loop, theme, variation, development)\n",
    "- instrumental(solo)\n",
    "- outro"
   ]
  },
  {
   "cell_type": "code",
   "execution_count": 17,
   "metadata": {},
   "outputs": [
    {
     "name": "stdout",
     "output_type": "stream",
     "text": [
      "intro: 2778\n",
      "verse: 4369\n",
      "bridge: 2101\n",
      "chorus: 5903\n",
      "instrumental: 883\n",
      "outro: 350\n",
      "2 nans\n"
     ]
    }
   ],
   "source": [
    "section_list = [\n",
    "    ['intro', 'lead-in'],\n",
    "    ['verse'],\n",
    "    ['bridge', 'pre-chorus'],\n",
    "    ['chorus', 'loop', 'theme', 'variation', 'development'],\n",
    "    ['instrumental', 'solo'],\n",
    "    ['outro']\n",
    "]\n",
    "\n",
    "section_counts = np.zeros(6, dtype=int)\n",
    "nans = 0\n",
    "for section in df_midinet[\"section\"]:\n",
    "    if section is np.nan:\n",
    "        nans += 1\n",
    "        continue\n",
    "    for s, section_names in enumerate(section_list):\n",
    "        decided = False\n",
    "        for section_name in section_names:\n",
    "            if section_name in section:\n",
    "                section_counts[s] += 1\n",
    "                decided = True\n",
    "                break\n",
    "        if decided: break\n",
    "                \n",
    "for i, c in enumerate(section_counts):\n",
    "    print(f\"{section_list[i][0]}: {c}\")\n",
    "print(f\"{nans} nans\")"
   ]
  },
  {
   "cell_type": "code",
   "execution_count": 18,
   "metadata": {},
   "outputs": [
    {
     "name": "stdout",
     "output_type": "stream",
     "text": [
      "16384 16386\n"
     ]
    }
   ],
   "source": [
    "print(sum(section_counts), df_midinet.shape[0])"
   ]
  },
  {
   "cell_type": "markdown",
   "metadata": {},
   "source": [
    "あとは6次元ベクトルにしてGANの条件付けにでもつかえるか"
   ]
  },
  {
   "cell_type": "markdown",
   "metadata": {},
   "source": [
    "### メロディがコード音に沿っている割合"
   ]
  },
  {
   "cell_type": "code",
   "execution_count": 25,
   "metadata": {},
   "outputs": [
    {
     "name": "stdout",
     "output_type": "stream",
     "text": [
      "(16386, 23)\n"
     ]
    },
    {
     "data": {
      "text/html": [
       "<div>\n",
       "<style scoped>\n",
       "    .dataframe tbody tr th:only-of-type {\n",
       "        vertical-align: middle;\n",
       "    }\n",
       "\n",
       "    .dataframe tbody tr th {\n",
       "        vertical-align: top;\n",
       "    }\n",
       "\n",
       "    .dataframe thead th {\n",
       "        text-align: right;\n",
       "    }\n",
       "</style>\n",
       "<table border=\"1\" class=\"dataframe\">\n",
       "  <thead>\n",
       "    <tr style=\"text-align: right;\">\n",
       "      <th></th>\n",
       "      <th>index</th>\n",
       "      <th>Unnamed: 0</th>\n",
       "      <th>path</th>\n",
       "      <th>artist</th>\n",
       "      <th>song</th>\n",
       "      <th>section</th>\n",
       "      <th>nokey</th>\n",
       "      <th>key_signature</th>\n",
       "      <th>estimated_key_signature</th>\n",
       "      <th>in_scale_rate</th>\n",
       "      <th>...</th>\n",
       "      <th>lowest_melody</th>\n",
       "      <th>highest_chord</th>\n",
       "      <th>lowest_chord</th>\n",
       "      <th>bpm</th>\n",
       "      <th>time_signature</th>\n",
       "      <th>beats</th>\n",
       "      <th>bars</th>\n",
       "      <th>time</th>\n",
       "      <th>has_melody_track</th>\n",
       "      <th>has_chord_track</th>\n",
       "    </tr>\n",
       "  </thead>\n",
       "  <tbody>\n",
       "    <tr>\n",
       "      <td>0</td>\n",
       "      <td>0</td>\n",
       "      <td>0</td>\n",
       "      <td>q/quincy-jones-and-his-orchestra/soul-bossa-no...</td>\n",
       "      <td>quincy-jones-and-his-orchestra</td>\n",
       "      <td>soul-bossa-nova</td>\n",
       "      <td>chorus</td>\n",
       "      <td>False</td>\n",
       "      <td>Bb Major</td>\n",
       "      <td>Bb Major</td>\n",
       "      <td>0.88278</td>\n",
       "      <td>...</td>\n",
       "      <td>65.0</td>\n",
       "      <td>63.0</td>\n",
       "      <td>43.0</td>\n",
       "      <td>146</td>\n",
       "      <td>4/4</td>\n",
       "      <td>48</td>\n",
       "      <td>12</td>\n",
       "      <td>19.73</td>\n",
       "      <td>True</td>\n",
       "      <td>True</td>\n",
       "    </tr>\n",
       "    <tr>\n",
       "      <td>1</td>\n",
       "      <td>2</td>\n",
       "      <td>2</td>\n",
       "      <td>q/queen-and-bowie/under-pressure/intro-and-ver...</td>\n",
       "      <td>queen-and-bowie</td>\n",
       "      <td>under-pressure</td>\n",
       "      <td>intro,verse</td>\n",
       "      <td>False</td>\n",
       "      <td>D Major</td>\n",
       "      <td>D Major</td>\n",
       "      <td>1.00000</td>\n",
       "      <td>...</td>\n",
       "      <td>57.0</td>\n",
       "      <td>57.0</td>\n",
       "      <td>45.0</td>\n",
       "      <td>120</td>\n",
       "      <td>4/4</td>\n",
       "      <td>32</td>\n",
       "      <td>8</td>\n",
       "      <td>16.00</td>\n",
       "      <td>True</td>\n",
       "      <td>True</td>\n",
       "    </tr>\n",
       "    <tr>\n",
       "      <td>2</td>\n",
       "      <td>5</td>\n",
       "      <td>5</td>\n",
       "      <td>q/queen-and-bowie/under-pressure/intro_key.mid</td>\n",
       "      <td>queen-and-bowie</td>\n",
       "      <td>under-pressure</td>\n",
       "      <td>intro</td>\n",
       "      <td>False</td>\n",
       "      <td>D Major</td>\n",
       "      <td>D Major</td>\n",
       "      <td>1.00000</td>\n",
       "      <td>...</td>\n",
       "      <td>57.0</td>\n",
       "      <td>61.0</td>\n",
       "      <td>50.0</td>\n",
       "      <td>240</td>\n",
       "      <td>4/4</td>\n",
       "      <td>32</td>\n",
       "      <td>8</td>\n",
       "      <td>8.00</td>\n",
       "      <td>True</td>\n",
       "      <td>True</td>\n",
       "    </tr>\n",
       "    <tr>\n",
       "      <td>3</td>\n",
       "      <td>8</td>\n",
       "      <td>8</td>\n",
       "      <td>q/queen/the-show-must-go-on/intro-and-verse_ke...</td>\n",
       "      <td>queen</td>\n",
       "      <td>the-show-must-go-on</td>\n",
       "      <td>intro,verse</td>\n",
       "      <td>False</td>\n",
       "      <td>B Major</td>\n",
       "      <td>B minor</td>\n",
       "      <td>0.64627</td>\n",
       "      <td>...</td>\n",
       "      <td>70.0</td>\n",
       "      <td>59.0</td>\n",
       "      <td>42.0</td>\n",
       "      <td>83</td>\n",
       "      <td>4/4</td>\n",
       "      <td>57</td>\n",
       "      <td>14</td>\n",
       "      <td>40.48</td>\n",
       "      <td>True</td>\n",
       "      <td>True</td>\n",
       "    </tr>\n",
       "    <tr>\n",
       "      <td>4</td>\n",
       "      <td>10</td>\n",
       "      <td>10</td>\n",
       "      <td>q/queen/the-show-must-go-on/bridge_key.mid</td>\n",
       "      <td>queen</td>\n",
       "      <td>the-show-must-go-on</td>\n",
       "      <td>bridge</td>\n",
       "      <td>False</td>\n",
       "      <td>C Major</td>\n",
       "      <td>A minor</td>\n",
       "      <td>1.00000</td>\n",
       "      <td>...</td>\n",
       "      <td>57.0</td>\n",
       "      <td>60.0</td>\n",
       "      <td>43.0</td>\n",
       "      <td>84</td>\n",
       "      <td>4/4</td>\n",
       "      <td>24</td>\n",
       "      <td>6</td>\n",
       "      <td>17.14</td>\n",
       "      <td>True</td>\n",
       "      <td>True</td>\n",
       "    </tr>\n",
       "  </tbody>\n",
       "</table>\n",
       "<p>5 rows × 23 columns</p>\n",
       "</div>"
      ],
      "text/plain": [
       "   index  Unnamed: 0                                               path  \\\n",
       "0      0           0  q/quincy-jones-and-his-orchestra/soul-bossa-no...   \n",
       "1      2           2  q/queen-and-bowie/under-pressure/intro-and-ver...   \n",
       "2      5           5     q/queen-and-bowie/under-pressure/intro_key.mid   \n",
       "3      8           8  q/queen/the-show-must-go-on/intro-and-verse_ke...   \n",
       "4     10          10         q/queen/the-show-must-go-on/bridge_key.mid   \n",
       "\n",
       "                           artist                 song      section  nokey  \\\n",
       "0  quincy-jones-and-his-orchestra      soul-bossa-nova       chorus  False   \n",
       "1                 queen-and-bowie       under-pressure  intro,verse  False   \n",
       "2                 queen-and-bowie       under-pressure        intro  False   \n",
       "3                           queen  the-show-must-go-on  intro,verse  False   \n",
       "4                           queen  the-show-must-go-on       bridge  False   \n",
       "\n",
       "  key_signature estimated_key_signature  in_scale_rate  ...  lowest_melody  \\\n",
       "0      Bb Major                Bb Major        0.88278  ...           65.0   \n",
       "1       D Major                 D Major        1.00000  ...           57.0   \n",
       "2       D Major                 D Major        1.00000  ...           57.0   \n",
       "3       B Major                 B minor        0.64627  ...           70.0   \n",
       "4       C Major                 A minor        1.00000  ...           57.0   \n",
       "\n",
       "   highest_chord  lowest_chord  bpm  time_signature  beats  bars   time  \\\n",
       "0           63.0          43.0  146             4/4     48    12  19.73   \n",
       "1           57.0          45.0  120             4/4     32     8  16.00   \n",
       "2           61.0          50.0  240             4/4     32     8   8.00   \n",
       "3           59.0          42.0   83             4/4     57    14  40.48   \n",
       "4           60.0          43.0   84             4/4     24     6  17.14   \n",
       "\n",
       "   has_melody_track  has_chord_track  \n",
       "0              True             True  \n",
       "1              True             True  \n",
       "2              True             True  \n",
       "3              True             True  \n",
       "4              True             True  \n",
       "\n",
       "[5 rows x 23 columns]"
      ]
     },
     "execution_count": 25,
     "metadata": {},
     "output_type": "execute_result"
    }
   ],
   "source": [
    "df_org = pd.read_csv(\"../datasets/theorytab/theorytab.csv\")\n",
    "df = df_org\n",
    "df = df[(df[\"nokey\"] == False) & (df[\"time_signature\"] == \"4/4\")]\n",
    "df = df[df[\"has_melody_track\"] & df[\"has_chord_track\"]]\n",
    "df = df.reset_index()\n",
    "print(df.shape)\n",
    "df.head()"
   ]
  },
  {
   "cell_type": "code",
   "execution_count": 26,
   "metadata": {},
   "outputs": [
    {
     "name": "stdout",
     "output_type": "stream",
     "text": [
      "0.7050272963033801\n"
     ]
    },
    {
     "data": {
      "text/plain": [
       "<matplotlib.axes._subplots.AxesSubplot at 0x7f538af3bc50>"
      ]
     },
     "execution_count": 26,
     "metadata": {},
     "output_type": "execute_result"
    },
    {
     "data": {
      "image/png": "[encoded data removed]",
      "text/plain": [
       "<Figure size 432x288 with 1 Axes>"
      ]
     },
     "metadata": {
      "needs_background": "light"
     },
     "output_type": "display_data"
    }
   ],
   "source": [
    "print(df['on_chord_rate'].mean())\n",
    "df['on_chord_rate'].hist()"
   ]
  },
  {
   "cell_type": "markdown",
   "metadata": {},
   "source": [
    "コードがメロディに沿っている割合はほぼ1というわけではない  \n",
    "しかし，生成データにはそれくらい沿っていてほしい"
   ]
  },
  {
   "cell_type": "markdown",
   "metadata": {},
   "source": [
    "### テンポはどんなもん？"
   ]
  },
  {
   "cell_type": "code",
   "execution_count": 30,
   "metadata": {},
   "outputs": [
    {
     "name": "stdout",
     "output_type": "stream",
     "text": [
      "mean: 124.07128036128402, med: 127.0\n"
     ]
    },
    {
     "data": {
      "text/plain": [
       "<matplotlib.axes._subplots.AxesSubplot at 0x7f538cfe0518>"
      ]
     },
     "execution_count": 30,
     "metadata": {},
     "output_type": "execute_result"
    },
    {
     "data": {
      "image/png": "[encoded data removed]",
      "text/plain": [
       "<Figure size 432x288 with 1 Axes>"
      ]
     },
     "metadata": {
      "needs_background": "light"
     },
     "output_type": "display_data"
    }
   ],
   "source": [
    "print(f\"mean: {df['bpm'].mean()}, med: {df['bpm'].median()}\")\n",
    "df['bpm'].hist()"
   ]
  },
  {
   "cell_type": "code",
   "execution_count": 55,
   "metadata": {},
   "outputs": [
    {
     "name": "stdout",
     "output_type": "stream",
     "text": [
      "3351\n",
      "3309\n",
      "3950\n",
      "2463\n",
      "3313\n"
     ]
    }
   ],
   "source": [
    "print(len(df[df['bpm'] < 95])) # slow\n",
    "print(len(df[(95 <= df['bpm']) & (df['bpm'] < 120)])) # middle\n",
    "print(len(df[(120 <= df['bpm']) & (df['bpm'] < 130)])) # normal\n",
    "print(len(df[(130 <= df['bpm']) & (df['bpm'] < 150)])) # uptempo\n",
    "print(len(df[150 <= df['bpm']])) # fast"
   ]
  },
  {
   "cell_type": "code",
   "execution_count": 29,
   "metadata": {},
   "outputs": [
    {
     "name": "stdout",
     "output_type": "stream",
     "text": [
      "sample 128 picked from c/cults/go-outside/intro_key.mid\n"
     ]
    },
    {
     "data": {
      "image/png": "[encoded data removed]",
      "text/plain": [
       "<Figure size 1512x720 with 2 Axes>"
      ]
     },
     "metadata": {
      "needs_background": "light"
     },
     "output_type": "display_data"
    }
   ],
   "source": [
    "grid_plot(get_sample(128))"
   ]
  },
  {
   "cell_type": "markdown",
   "metadata": {},
   "source": [
    "## 小節数"
   ]
  },
  {
   "cell_type": "code",
   "execution_count": 63,
   "metadata": {},
   "outputs": [
    {
     "name": "stdout",
     "output_type": "stream",
     "text": [
      "(16386, 23)\n",
      "9380 songs\n"
     ]
    }
   ],
   "source": [
    "df_org = pd.read_csv(\"../datasets/theorytab/theorytab.csv\")\n",
    "df = df_org\n",
    "df = df[(df[\"nokey\"] == False) & (df[\"time_signature\"] == \"4/4\")]\n",
    "df = df[df[\"has_melody_track\"] & df[\"has_chord_track\"]]\n",
    "df = df.reset_index()\n",
    "print(df.shape)\n",
    "print(len(df['song'].unique()), 'songs')"
   ]
  },
  {
   "cell_type": "code",
   "execution_count": 70,
   "metadata": {},
   "outputs": [
    {
     "name": "stdout",
     "output_type": "stream",
     "text": [
      "mean: 11.090259978030026, med: 8.0\n",
      "max: 136, min: 1\n"
     ]
    },
    {
     "data": {
      "image/png": "[encoded data removed]",
      "text/plain": [
       "<Figure size 432x288 with 1 Axes>"
      ]
     },
     "metadata": {
      "needs_background": "light"
     },
     "output_type": "display_data"
    }
   ],
   "source": [
    "print(f\"mean: {df['bars'].mean()}, med: {df['bars'].median()}\")\n",
    "print(f\"max: {df['bars'].max()}, min: {df['bars'].min()}\")\n",
    "df['bars'].hist()\n",
    "None"
   ]
  },
  {
   "cell_type": "markdown",
   "metadata": {},
   "source": [
    "なんか異様に小節数多いやつがいる"
   ]
  },
  {
   "cell_type": "code",
   "execution_count": 65,
   "metadata": {},
   "outputs": [
    {
     "name": "stdout",
     "output_type": "stream",
     "text": [
      "All files       : 16386\n",
      "Too short files : 104\n",
      "Too long files  : 1722\n"
     ]
    }
   ],
   "source": [
    "print(\"All files       :\", len(df))\n",
    "print(\"Too short files :\", len(df[df['bars'] < 4]))\n",
    "print(\"Too long files  :\", len(df[df['bars'] > 16]))"
   ]
  },
  {
   "cell_type": "markdown",
   "metadata": {},
   "source": [
    "これら2000ファイルほどは取り除いても構わないだろう"
   ]
  },
  {
   "cell_type": "code",
   "execution_count": 69,
   "metadata": {},
   "outputs": [
    {
     "name": "stdout",
     "output_type": "stream",
     "text": [
      "14560 files\n",
      "8683 songs\n",
      "mean: 9.790934065934065, med: 8.0\n"
     ]
    },
    {
     "data": {
      "image/png": "[encoded data removed]",
      "text/plain": [
       "<Figure size 432x288 with 1 Axes>"
      ]
     },
     "metadata": {
      "needs_background": "light"
     },
     "output_type": "display_data"
    }
   ],
   "source": [
    "df_normal = df[(df['bars'] >= 4) & (df['bars'] <= 16)]\n",
    "print(len(df_normal), \"files\")\n",
    "print(len(df_normal['song'].unique()), 'songs')\n",
    "print(f\"mean: {df_normal['bars'].mean()}, med: {df_normal['bars'].median()}\")\n",
    "df_normal['bars'].hist()\n",
    "None"
   ]
  },
  {
   "cell_type": "code",
   "execution_count": 72,
   "metadata": {},
   "outputs": [
    {
     "data": {
      "text/plain": [
       "5945"
      ]
     },
     "execution_count": 72,
     "metadata": {},
     "output_type": "execute_result"
    }
   ],
   "source": [
    "len(df_normal[df_normal['bars'] > 8])"
   ]
  },
  {
   "cell_type": "markdown",
   "metadata": {},
   "source": [
    "データのほとんどが8小節か16小節になっていることが分かる"
   ]
  }
 ],
 "metadata": {
  "kernelspec": {
   "display_name": "Python 3",
   "language": "python",
   "name": "python3"
  },
  "language_info": {
   "codemirror_mode": {
    "name": "ipython",
    "version": 3
   },
   "file_extension": ".py",
   "mimetype": "text/x-python",
   "name": "python",
   "nbconvert_exporter": "python",
   "pygments_lexer": "ipython3",
   "version": "3.7.3"
  }
 },
 "nbformat": 4,
 "nbformat_minor": 4
}
